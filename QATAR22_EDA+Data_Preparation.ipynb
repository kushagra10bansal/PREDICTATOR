{
 "cells": [
  {
   "cell_type": "markdown",
   "metadata": {
    "id": "5LCeRDXa7fb2"
   },
   "source": [
    "\n",
    "This notebook aims to analyze the \"international_matches.csv\" dataset and from it, create a training dataset and an inference dataset, which will be used to predict the results of the QATAR 2022 World Cup.\n"
   ]
  },
  {
   "cell_type": "code",
   "execution_count": null,
   "metadata": {
    "_cell_guid": "b1076dfc-b9ad-4769-8c92-a6c4dae69d19",
    "_uuid": "8f2839f25d086af736a60e9eeb907d3b93b6e0e5",
    "execution": {
     "iopub.execute_input": "2022-09-16T05:39:39.646382Z",
     "iopub.status.busy": "2022-09-16T05:39:39.646004Z",
     "iopub.status.idle": "2022-09-16T05:39:40.126489Z",
     "shell.execute_reply": "2022-09-16T05:39:40.125346Z",
     "shell.execute_reply.started": "2022-09-16T05:39:39.646359Z"
    },
    "id": "bR2H_TM4czyy",
    "scrolled": true
   },
   "outputs": [],
   "source": [
    "import numpy as np \n",
    "import pandas as pd \n",
    "import matplotlib.pyplot as plt\n",
    "import seaborn as sns\n",
    "import os\n",
    "import warnings\n",
    "warnings.filterwarnings('ignore')"
   ]
  },
  {
   "cell_type": "code",
   "execution_count": null,
   "metadata": {
    "colab": {
     "base_uri": "https://localhost:8080/",
     "height": 386
    },
    "execution": {
     "iopub.execute_input": "2022-09-16T05:38:38.577404Z",
     "iopub.status.busy": "2022-09-16T05:38:38.57718Z",
     "iopub.status.idle": "2022-09-16T05:38:38.727653Z",
     "shell.execute_reply": "2022-09-16T05:38:38.726679Z",
     "shell.execute_reply.started": "2022-09-16T05:38:38.577382Z"
    },
    "id": "XxuELMU5czy7",
    "outputId": "fc0e5681-2a50-42fc-feea-500ec9480fe4"
   },
   "outputs": [],
   "source": [
    "df = pd.read_csv(r'C:\\Users\\hp\\Downloads\\QATAR_2022_Prediction-master\\QATAR_2022_Prediction-master\\data\\international_matches.csv', parse_dates=['date'])\n",
    "df.tail()"
   ]
  },
  {
   "cell_type": "code",
   "execution_count": null,
   "metadata": {
    "colab": {
     "base_uri": "https://localhost:8080/"
    },
    "execution": {
     "iopub.execute_input": "2022-09-16T05:39:49.497621Z",
     "iopub.status.busy": "2022-09-16T05:39:49.497273Z",
     "iopub.status.idle": "2022-09-16T05:39:49.504406Z",
     "shell.execute_reply": "2022-09-16T05:39:49.503589Z",
     "shell.execute_reply.started": "2022-09-16T05:39:49.497596Z"
    },
    "id": "zUFsVxAFczy7",
    "outputId": "c1d306c5-7c3f-4d5b-ec21-233986ab9b23"
   },
   "outputs": [],
   "source": [
    "df.columns"
   ]
  },
  {
   "cell_type": "code",
   "execution_count": null,
   "metadata": {
    "colab": {
     "base_uri": "https://localhost:8080/"
    },
    "id": "PjJ1tBxfYzQQ",
    "outputId": "f30d1e1c-1470-4c93-be78-9302b298ce0c"
   },
   "outputs": [],
   "source": [
    "df.isnull().sum() #number of missing values in that column"
   ]
  },
  {
   "cell_type": "markdown",
   "metadata": {
    "id": "VT019Ma1ZNkd"
   },
   "source": [
    "# PRE-ANALYSIS\n",
    "The dataset has a lot of blank fields that need to be fixed.\n",
    "However, before modifying any field, I want to analyze the teams' qualifications on the last FIFA date (June 2022). This is important because, from these qualifications, I will create the inference dataset that enters the machine learning algorithm that predicts the World Cup matches."
   ]
  },
  {
   "cell_type": "markdown",
   "metadata": {
    "id": "dJWf4Iwdczy8"
   },
   "source": [
    "### Top 10 FIFA Ranking\n",
    "Top 10 national teams to date FIFA June 2022.\n",
    "**ref:** https://www.fifa.com/fifa-world-ranking/men?dateId=id13603"
   ]
  },
  {
   "cell_type": "code",
   "execution_count": null,
   "metadata": {
    "colab": {
     "base_uri": "https://localhost:8080/",
     "height": 363
    },
    "execution": {
     "iopub.execute_input": "2022-09-16T05:40:39.362334Z",
     "iopub.status.busy": "2022-09-16T05:40:39.362022Z",
     "iopub.status.idle": "2022-09-16T05:40:39.413556Z",
     "shell.execute_reply": "2022-09-16T05:40:39.412686Z",
     "shell.execute_reply.started": "2022-09-16T05:40:39.36231Z"
    },
    "id": "iW8NfTNjczy8",
    "outputId": "73211633-05cf-4bee-b3ce-c882af54193b"
   },
   "outputs": [],
   "source": [
    "fifa_rank = df[['date','home_team', 'away_team', 'home_team_fifa_rank', 'away_team_fifa_rank']]\n",
    "home = fifa_rank[['date', 'home_team', 'home_team_fifa_rank']].rename(columns={\"home_team\":\"team\", \"home_team_fifa_rank\":\"rank\"})\n",
    "away = fifa_rank[['date', 'away_team', 'away_team_fifa_rank']].rename(columns={\"away_team\":\"team\", \"away_team_fifa_rank\":\"rank\"})\n",
    "fifa_rank = pd.concat([home, away])\n",
    "#Select each country latest match\n",
    "fifa_rank = fifa_rank.sort_values(['team', 'date'], ascending=[True, False])\n",
    "last_rank = fifa_rank\n",
    "fifa_rank_top10 = fifa_rank.groupby('team').first().sort_values('rank', ascending=True)[0:10].reset_index()\n",
    "fifa_rank_top10"
   ]
  },
  {
   "cell_type": "markdown",
   "metadata": {
    "id": "8rO1K5nZczy9"
   },
   "source": [
    "### Top 10 teams with the highest winning percentage at home and away"
   ]
  },
  {
   "cell_type": "code",
   "execution_count": null,
   "metadata": {
    "execution": {
     "iopub.execute_input": "2022-09-16T05:42:15.425915Z",
     "iopub.status.busy": "2022-09-16T05:42:15.425549Z",
     "iopub.status.idle": "2022-09-16T05:42:15.432274Z",
     "shell.execute_reply": "2022-09-16T05:42:15.431311Z",
     "shell.execute_reply.started": "2022-09-16T05:42:15.42589Z"
    },
    "id": "bOtzjUBAczy9"
   },
   "outputs": [],
   "source": [
    "def home_percentage(team):\n",
    "    #count of number of matches played at home&won divided by the number of matches played at home = percentage\n",
    "    score = len(df[(df['home_team'] == team) & (df['home_team_result'] == \"Win\")]) / len(df[df['home_team'] == team]) * 100\n",
    "    return round(score)\n",
    "def away_percentage(team):\n",
    "    score = len(df[(df['away_team'] == team) & (df['home_team_result'] == \"Lose\")]) / len(df[df['away_team'] == team]) * 100\n",
    "    return round(score)"
   ]
  },
  {
   "cell_type": "code",
   "execution_count": null,
   "metadata": {
    "colab": {
     "base_uri": "https://localhost:8080/",
     "height": 363
    },
    "execution": {
     "iopub.execute_input": "2022-09-16T05:42:38.952052Z",
     "iopub.status.busy": "2022-09-16T05:42:38.950663Z",
     "iopub.status.idle": "2022-09-16T05:42:39.095093Z",
     "shell.execute_reply": "2022-09-16T05:42:39.094267Z",
     "shell.execute_reply.started": "2022-09-16T05:42:38.952015Z"
    },
    "id": "bq4_xpA-czy9",
    "outputId": "0cc6399e-4983-41cb-ee2a-45a0ee13bc8b"
   },
   "outputs": [],
   "source": [
    "#calculate the home and away win percentage of the top 10 teams. \n",
    "#win percentage is calculated for all the teams\n",
    "fifa_rank_top10['Home_win_Per'] = np.vectorize(home_percentage)(fifa_rank_top10['team']) #vectorize means to apply the home_percentage function on the top10teams\n",
    "fifa_rank_top10['Away_win_Per'] = np.vectorize(away_percentage)(fifa_rank_top10['team'])\n",
    "fifa_rank_top10['Average_win_Per'] = round((fifa_rank_top10['Home_win_Per'] + fifa_rank_top10['Away_win_Per']) / 2)\n",
    "fifa_rank_win = fifa_rank_top10.sort_values('Average_win_Per', ascending = False)\n",
    "fifa_rank_win"
   ]
  },
  {
   "cell_type": "markdown",
   "metadata": {
    "id": "KpWPXODaczy-"
   },
   "source": [
    "### Top 10 attacking teams in the last FIFA date"
   ]
  },
  {
   "cell_type": "code",
   "execution_count": null,
   "metadata": {
    "colab": {
     "base_uri": "https://localhost:8080/",
     "height": 363
    },
    "execution": {
     "iopub.execute_input": "2022-09-16T05:43:18.363949Z",
     "iopub.status.busy": "2022-09-16T05:43:18.362999Z",
     "iopub.status.idle": "2022-09-16T05:43:18.413666Z",
     "shell.execute_reply": "2022-09-16T05:43:18.412458Z",
     "shell.execute_reply.started": "2022-09-16T05:43:18.363913Z"
    },
    "id": "fuiciCVOczy-",
    "outputId": "b1117e0b-4dde-4bcb-b93f-ac784964d8a5"
   },
   "outputs": [],
   "source": [
    "fifa_offense = df[['date', 'home_team', 'away_team', 'home_team_mean_offense_score', 'away_team_mean_offense_score']]\n",
    "home = fifa_offense[['date', 'home_team', 'home_team_mean_offense_score']].rename(columns={\"home_team\":\"team\", \"home_team_mean_offense_score\":\"offense_score\"})\n",
    "away = fifa_offense[['date', 'away_team', 'away_team_mean_offense_score']].rename(columns={\"away_team\":\"team\", \"away_team_mean_offense_score\":\"offense_score\"})\n",
    "fifa_offense = pd.concat([home, away])\n",
    "fifa_offense = fifa_offense.sort_values(['date', 'team'],ascending=[False, True])\n",
    "last_offense = fifa_offense\n",
    "fifa_offense_top10 = fifa_offense.groupby('team').first().sort_values('offense_score', ascending=False)[0:10].reset_index()\n",
    "fifa_offense_top10"
   ]
  },
  {
   "cell_type": "code",
   "execution_count": null,
   "metadata": {
    "colab": {
     "base_uri": "https://localhost:8080/",
     "height": 304
    },
    "execution": {
     "iopub.execute_input": "2022-09-16T05:43:30.757049Z",
     "iopub.status.busy": "2022-09-16T05:43:30.756698Z",
     "iopub.status.idle": "2022-09-16T05:43:30.93647Z",
     "shell.execute_reply": "2022-09-16T05:43:30.935481Z",
     "shell.execute_reply.started": "2022-09-16T05:43:30.757024Z"
    },
    "id": "ZI2RVhsPczy-",
    "outputId": "7cc5a380-5fcb-4146-f275-2f38e1ba11da"
   },
   "outputs": [],
   "source": [
    "sns.barplot(data=fifa_offense_top10, x='offense_score', y='team', color=\"#7F1431\")\n",
    "plt.xlabel('Offense Score', size = 20) \n",
    "plt.ylabel('Team', size = 20) \n",
    "plt.title(\"Top 10 Attacking teams\");"
   ]
  },
  {
   "cell_type": "markdown",
   "metadata": {
    "id": "h1s9cW2Cczy-"
   },
   "source": [
    "### Top 10 Midfield teams in the last FIFA date"
   ]
  },
  {
   "cell_type": "code",
   "execution_count": null,
   "metadata": {
    "colab": {
     "base_uri": "https://localhost:8080/",
     "height": 363
    },
    "execution": {
     "iopub.execute_input": "2022-09-16T05:44:07.187443Z",
     "iopub.status.busy": "2022-09-16T05:44:07.187131Z",
     "iopub.status.idle": "2022-09-16T05:44:07.230419Z",
     "shell.execute_reply": "2022-09-16T05:44:07.229385Z",
     "shell.execute_reply.started": "2022-09-16T05:44:07.18742Z"
    },
    "id": "OPYkt_Igczy_",
    "outputId": "7adf0372-3631-4779-e639-52254ee1e940"
   },
   "outputs": [],
   "source": [
    "fifa_midfield = df[['date', 'home_team', 'away_team', 'home_team_mean_midfield_score', 'away_team_mean_midfield_score']]\n",
    "home = fifa_midfield[['date', 'home_team', 'home_team_mean_midfield_score']].rename(columns={\"home_team\":\"team\", \"home_team_mean_midfield_score\":\"midfield_score\"})\n",
    "away = fifa_midfield[['date', 'away_team', 'away_team_mean_midfield_score']].rename(columns={\"away_team\":\"team\", \"away_team_mean_midfield_score\":\"midfield_score\"})\n",
    "fifa_midfield = pd.concat([home,away])\n",
    "fifa_midfield = fifa_midfield.sort_values(['date','team'],ascending=[False,True])\n",
    "last_midfield = fifa_midfield\n",
    "fifa_midfield_top10 = fifa_midfield.groupby('team').first().sort_values('midfield_score',ascending=False)[0:10].reset_index()\n",
    "fifa_midfield_top10"
   ]
  },
  {
   "cell_type": "code",
   "execution_count": null,
   "metadata": {
    "colab": {
     "base_uri": "https://localhost:8080/",
     "height": 304
    },
    "execution": {
     "iopub.execute_input": "2022-09-16T05:44:26.367307Z",
     "iopub.status.busy": "2022-09-16T05:44:26.366949Z",
     "iopub.status.idle": "2022-09-16T05:44:26.547587Z",
     "shell.execute_reply": "2022-09-16T05:44:26.546427Z",
     "shell.execute_reply.started": "2022-09-16T05:44:26.367282Z"
    },
    "id": "BjuoeAw0czy_",
    "outputId": "3f7adb75-779b-42c4-8c41-92a8f2aca651"
   },
   "outputs": [],
   "source": [
    "sns.barplot(data=fifa_midfield_top10, x='midfield_score', y='team', color=\"#7F1431\")\n",
    "plt.xlabel('Midfield Score', size = 20) \n",
    "plt.ylabel('Team', size = 20) \n",
    "plt.title(\"Top 10 Midfield teams\");"
   ]
  },
  {
   "cell_type": "markdown",
   "metadata": {
    "id": "3IkYZ_x3czy_"
   },
   "source": [
    "### Top 10 defending teams in the last FIFA date"
   ]
  },
  {
   "cell_type": "code",
   "execution_count": null,
   "metadata": {
    "colab": {
     "base_uri": "https://localhost:8080/",
     "height": 363
    },
    "execution": {
     "iopub.execute_input": "2022-09-16T05:44:45.218555Z",
     "iopub.status.busy": "2022-09-16T05:44:45.21825Z",
     "iopub.status.idle": "2022-09-16T05:44:45.261008Z",
     "shell.execute_reply": "2022-09-16T05:44:45.260102Z",
     "shell.execute_reply.started": "2022-09-16T05:44:45.218533Z"
    },
    "id": "UkuHfpMhczy_",
    "outputId": "01ddd2ee-0785-43da-aa8c-2d572eaf0a9d"
   },
   "outputs": [],
   "source": [
    "fifa_defense = df[['date', 'home_team', 'away_team', 'home_team_mean_defense_score', 'away_team_mean_defense_score']]\n",
    "home = fifa_defense[['date', 'home_team', 'home_team_mean_defense_score']].rename(columns={\"home_team\":\"team\", \"home_team_mean_defense_score\":\"defense_score\"})\n",
    "away = fifa_defense[['date', 'away_team', 'away_team_mean_defense_score']].rename(columns={\"away_team\":\"team\", \"away_team_mean_defense_score\":\"defense_score\"})\n",
    "fifa_defense = pd.concat([home, away])\n",
    "fifa_defense = fifa_defense.sort_values(['date', 'team'],ascending=[False, True])\n",
    "last_defense = fifa_defense \n",
    "fifa_defense_top10 = fifa_defense.groupby('team').first().sort_values('defense_score', ascending = False)[0:10].reset_index()\n",
    "fifa_defense_top10"
   ]
  },
  {
   "cell_type": "code",
   "execution_count": null,
   "metadata": {
    "colab": {
     "base_uri": "https://localhost:8080/",
     "height": 322
    },
    "execution": {
     "iopub.execute_input": "2022-09-16T05:44:55.011233Z",
     "iopub.status.busy": "2022-09-16T05:44:55.010919Z",
     "iopub.status.idle": "2022-09-16T05:44:55.199813Z",
     "shell.execute_reply": "2022-09-16T05:44:55.198614Z",
     "shell.execute_reply.started": "2022-09-16T05:44:55.011209Z"
    },
    "id": "RSfavsT_czy_",
    "outputId": "e9e0ba1c-a8bd-4038-f993-76c85d509468"
   },
   "outputs": [],
   "source": [
    "sns.barplot(data = fifa_defense_top10, x='defense_score', y='team', color=\"#7F1431\")\n",
    "plt.xlabel('Defense Score', size = 20) \n",
    "plt.ylabel('Team', size = 20) \n",
    "plt.title(\"Top 10 Defense Teams\")"
   ]
  },
  {
   "cell_type": "markdown",
   "metadata": {
    "id": "SYurqwbTelsB"
   },
   "source": [
    "### Do Home teams have any advantage?"
   ]
  },
  {
   "cell_type": "code",
   "execution_count": null,
   "metadata": {
    "colab": {
     "base_uri": "https://localhost:8080/",
     "height": 484
    },
    "id": "73yjPsHxAzEe",
    "outputId": "2a5560d7-366b-470f-8a0a-f8a55ab9f25c"
   },
   "outputs": [],
   "source": [
    "# Select all matches played at non-neutral locations\n",
    "home_team_advantage = df[df['neutral_location'] == False]['home_team_result'].value_counts(normalize = True)\n",
    "\n",
    "# Plot\n",
    "fig, axes = plt.subplots(1, 1, figsize=(8,8))\n",
    "ax =plt.pie(home_team_advantage  ,labels = ['Win', 'Lose', 'Draw'], autopct='%.0f%%')\n",
    "plt.title('Home team match result', fontsize = 15)\n",
    "plt.show()"
   ]
  },
  {
   "cell_type": "markdown",
   "metadata": {
    "id": "lw-wkz7nnDAd"
   },
   "source": [
    "As the graph shows, the home team has an advantage over the away team. This is due to factors such as the fans, the weather and the confidence of the players. For this reason, in the World Cup, those teams that sit at home will have an advantage."
   ]
  },
  {
   "cell_type": "markdown",
   "metadata": {
    "id": "Oux1hSuDczy_"
   },
   "source": [
    "# DATA PREPARATION AND FEATURE ENGINEERING\n",
    "In this section, I will fill in the empty fields in the dataset and clean up the data for teams that did not qualify for the World Cup. Then, I will use the correlation matrix to choose the characteristics that will define the training dataset of the Machine Learning model. Finally, I will use the ratings of the teams in their last match to define the \"Last Team Scores\" dataset (i.e., the dataset that I will use to predict the World Cup matches)."
   ]
  },
  {
   "cell_type": "markdown",
   "metadata": {
    "id": "uu3CPfusl4Hu"
   },
   "source": [
    "### Analyze and fill na's"
   ]
  },
  {
   "cell_type": "code",
   "execution_count": null,
   "metadata": {
    "colab": {
     "base_uri": "https://localhost:8080/"
    },
    "execution": {
     "iopub.execute_input": "2022-09-16T05:45:19.808183Z",
     "iopub.status.busy": "2022-09-16T05:45:19.807869Z",
     "iopub.status.idle": "2022-09-16T05:45:19.827135Z",
     "shell.execute_reply": "2022-09-16T05:45:19.826065Z",
     "shell.execute_reply.started": "2022-09-16T05:45:19.80816Z"
    },
    "id": "9YNw6WUNczzA",
    "outputId": "cc1058f1-9e83-4a57-9328-3a34f09e00ca"
   },
   "outputs": [],
   "source": [
    "df.isnull().sum()"
   ]
  },
  {
   "cell_type": "code",
   "execution_count": null,
   "metadata": {
    "colab": {
     "base_uri": "https://localhost:8080/"
    },
    "execution": {
     "iopub.execute_input": "2022-09-16T05:45:31.403735Z",
     "iopub.status.busy": "2022-09-16T05:45:31.403327Z",
     "iopub.status.idle": "2022-09-16T05:45:31.422868Z",
     "shell.execute_reply": "2022-09-16T05:45:31.420628Z",
     "shell.execute_reply.started": "2022-09-16T05:45:31.403701Z"
    },
    "id": "2k2rkjh2czzA",
    "outputId": "a4bf36cf-50c6-4571-edc6-ae70687ff2c2"
   },
   "outputs": [],
   "source": [
    "# We can fill mean for na's in goal_keeper_score\n",
    "# we will see the info using the describe function. this information will help us in chossing which value should we use to replace the missing values\n",
    "# we have chosen mean because there are\n",
    "# 1. no extreme values  2. data is fairly evenly distrubuted\n",
    "# if there were extreme values, then we would use median\n",
    "df[df['home_team'] == \"Brazil\"]['home_team_goalkeeper_score'].describe()"
   ]
  },
  {
   "cell_type": "code",
   "execution_count": null,
   "metadata": {
    "execution": {
     "iopub.execute_input": "2022-09-16T05:45:41.400325Z",
     "iopub.status.busy": "2022-09-16T05:45:41.399865Z",
     "iopub.status.idle": "2022-09-16T05:45:41.511674Z",
     "shell.execute_reply": "2022-09-16T05:45:41.510542Z",
     "shell.execute_reply.started": "2022-09-16T05:45:41.400293Z"
    },
    "id": "vFeJ-l8YczzA"
   },
   "outputs": [],
   "source": [
    "df['home_team_goalkeeper_score'] = round(df.groupby(\"home_team\")[\"home_team_goalkeeper_score\"].transform(lambda x: x.fillna(x.mean())))\n",
    "df['away_team_goalkeeper_score'] = round(df.groupby(\"away_team\")[\"away_team_goalkeeper_score\"].transform(lambda x: x.fillna(x.mean())))"
   ]
  },
  {
   "cell_type": "code",
   "execution_count": null,
   "metadata": {
    "colab": {
     "base_uri": "https://localhost:8080/"
    },
    "execution": {
     "iopub.execute_input": "2022-09-16T05:45:50.13293Z",
     "iopub.status.busy": "2022-09-16T05:45:50.132607Z",
     "iopub.status.idle": "2022-09-16T05:45:50.146759Z",
     "shell.execute_reply": "2022-09-16T05:45:50.145778Z",
     "shell.execute_reply.started": "2022-09-16T05:45:50.132907Z"
    },
    "id": "IFnXnqG8czzA",
    "outputId": "39f4772b-0d4c-4a85-9d0a-a61012064dfa"
   },
   "outputs": [],
   "source": [
    "# We can fill mean for na's in defense score\n",
    "df[df['away_team'] == \"Uruguay\"]['home_team_mean_defense_score'].describe()"
   ]
  },
  {
   "cell_type": "code",
   "execution_count": null,
   "metadata": {
    "execution": {
     "iopub.execute_input": "2022-09-16T05:46:00.576582Z",
     "iopub.status.busy": "2022-09-16T05:46:00.576243Z",
     "iopub.status.idle": "2022-09-16T05:46:00.685258Z",
     "shell.execute_reply": "2022-09-16T05:46:00.684354Z",
     "shell.execute_reply.started": "2022-09-16T05:46:00.576558Z"
    },
    "id": "ZmtoaYaLczzA"
   },
   "outputs": [],
   "source": [
    "df['home_team_mean_defense_score'] = round(df.groupby('home_team')['home_team_mean_defense_score'].transform(lambda x : x.fillna(x.mean())))\n",
    "df['away_team_mean_defense_score'] = round(df.groupby('away_team')['away_team_mean_defense_score'].transform(lambda x : x.fillna(x.mean())))"
   ]
  },
  {
   "cell_type": "code",
   "execution_count": null,
   "metadata": {
    "colab": {
     "base_uri": "https://localhost:8080/"
    },
    "execution": {
     "iopub.execute_input": "2022-09-16T05:46:07.821016Z",
     "iopub.status.busy": "2022-09-16T05:46:07.820668Z",
     "iopub.status.idle": "2022-09-16T05:46:07.834065Z",
     "shell.execute_reply": "2022-09-16T05:46:07.833318Z",
     "shell.execute_reply.started": "2022-09-16T05:46:07.820993Z"
    },
    "id": "-zWUGSvPczzA",
    "outputId": "7be6e463-b2ff-42a0-8eba-ee91f510ecf7"
   },
   "outputs": [],
   "source": [
    "# We can fill mean for na's in offense score\n",
    "df[df['away_team'] == \"Uruguay\"]['home_team_mean_offense_score'].describe()"
   ]
  },
  {
   "cell_type": "code",
   "execution_count": null,
   "metadata": {
    "execution": {
     "iopub.execute_input": "2022-09-16T05:46:16.19468Z",
     "iopub.status.busy": "2022-09-16T05:46:16.194285Z",
     "iopub.status.idle": "2022-09-16T05:46:16.313984Z",
     "shell.execute_reply": "2022-09-16T05:46:16.312526Z",
     "shell.execute_reply.started": "2022-09-16T05:46:16.194646Z"
    },
    "id": "fgvgEg2kczzA"
   },
   "outputs": [],
   "source": [
    "df['home_team_mean_offense_score'] = round(df.groupby('home_team')['home_team_mean_offense_score'].transform(lambda x : x.fillna(x.mean())))\n",
    "df['away_team_mean_offense_score'] = round(df.groupby('away_team')['away_team_mean_offense_score'].transform(lambda x : x.fillna(x.mean())))"
   ]
  },
  {
   "cell_type": "code",
   "execution_count": null,
   "metadata": {
    "colab": {
     "base_uri": "https://localhost:8080/"
    },
    "execution": {
     "iopub.execute_input": "2022-09-16T05:46:27.330951Z",
     "iopub.status.busy": "2022-09-16T05:46:27.330612Z",
     "iopub.status.idle": "2022-09-16T05:46:27.344112Z",
     "shell.execute_reply": "2022-09-16T05:46:27.343258Z",
     "shell.execute_reply.started": "2022-09-16T05:46:27.330928Z"
    },
    "id": "FIrZX23YczzA",
    "outputId": "1c172603-9206-4b94-a630-a214feb2404b"
   },
   "outputs": [],
   "source": [
    "# We can fill mean for na's in midfield score\n",
    "df[df['away_team'] == \"Uruguay\"]['home_team_mean_midfield_score'].describe()"
   ]
  },
  {
   "cell_type": "code",
   "execution_count": null,
   "metadata": {
    "execution": {
     "iopub.execute_input": "2022-09-16T05:46:36.006525Z",
     "iopub.status.busy": "2022-09-16T05:46:36.006158Z",
     "iopub.status.idle": "2022-09-16T05:46:36.117942Z",
     "shell.execute_reply": "2022-09-16T05:46:36.117014Z",
     "shell.execute_reply.started": "2022-09-16T05:46:36.006484Z"
    },
    "id": "OckjU4rOczzA"
   },
   "outputs": [],
   "source": [
    "df['home_team_mean_midfield_score'] = round(df.groupby('home_team')['home_team_mean_midfield_score'].transform(lambda x : x.fillna(x.mean())))\n",
    "df['away_team_mean_midfield_score'] = round(df.groupby('away_team')['away_team_mean_midfield_score'].transform(lambda x : x.fillna(x.mean())))"
   ]
  },
  {
   "cell_type": "code",
   "execution_count": null,
   "metadata": {
    "colab": {
     "base_uri": "https://localhost:8080/"
    },
    "execution": {
     "iopub.execute_input": "2022-09-16T05:46:43.401286Z",
     "iopub.status.busy": "2022-09-16T05:46:43.400953Z",
     "iopub.status.idle": "2022-09-16T05:46:43.417688Z",
     "shell.execute_reply": "2022-09-16T05:46:43.416931Z",
     "shell.execute_reply.started": "2022-09-16T05:46:43.40126Z"
    },
    "id": "tyhKCVFoczzA",
    "outputId": "25f9a740-d078-4979-9f54-74d984d410bb"
   },
   "outputs": [],
   "source": [
    "df.isnull().sum()"
   ]
  },
  {
   "cell_type": "code",
   "execution_count": null,
   "metadata": {
    "execution": {
     "iopub.execute_input": "2022-09-16T05:47:12.483155Z",
     "iopub.status.busy": "2022-09-16T05:47:12.482755Z",
     "iopub.status.idle": "2022-09-16T05:47:12.586928Z",
     "shell.execute_reply": "2022-09-16T05:47:12.585971Z",
     "shell.execute_reply.started": "2022-09-16T05:47:12.483121Z"
    },
    "id": "3jyzMHpSczzA"
   },
   "outputs": [],
   "source": [
    "# Teams are not available in FIFA game itself, so they are not less than average performing teams, so giving a average score of 50 for all.\n",
    "df.fillna(50,inplace=True)"
   ]
  },
  {
   "cell_type": "markdown",
   "metadata": {
    "id": "o4eemYO6mKL4"
   },
   "source": [
    "### Filter the teams participating in QATAR - World cup 2022"
   ]
  },
  {
   "cell_type": "code",
   "execution_count": null,
   "metadata": {
    "execution": {
     "iopub.execute_input": "2022-09-16T05:47:30.45566Z",
     "iopub.status.busy": "2022-09-16T05:47:30.455378Z",
     "iopub.status.idle": "2022-09-16T05:47:30.497311Z",
     "shell.execute_reply": "2022-09-16T05:47:30.496169Z",
     "shell.execute_reply.started": "2022-09-16T05:47:30.455636Z"
    },
    "id": "_8BI1emIczzB"
   },
   "outputs": [],
   "source": [
    "list_2022 = ['Qatar', 'Germany', 'Denmark', 'Brazil', 'France', 'Belgium', 'Croatia', 'Spain', 'Serbia', 'England', 'Switzerland', 'Netherlands', 'Argentina', 'IR Iran', 'Korea Republic', 'Japan', 'Saudi Arabia', 'Ecuador', 'Uruguay', 'Canada', 'Ghana', 'Senegal', 'Portugal', 'Poland', 'Tunisia', 'Morocco', 'Cameroon', 'USA', 'Mexico', 'Wales', 'Australia', 'Costa Rica']\n",
    "final_df = df[(df[\"home_team\"].apply(lambda x: x in list_2022)) | (df[\"away_team\"].apply(lambda x: x in list_2022))]"
   ]
  },
  {
   "cell_type": "markdown",
   "metadata": {
    "id": "o5J41BGZczzB"
   },
   "source": [
    "**Top 10 teams in QATAR 2022**"
   ]
  },
  {
   "cell_type": "code",
   "execution_count": null,
   "metadata": {
    "colab": {
     "base_uri": "https://localhost:8080/",
     "height": 363
    },
    "execution": {
     "iopub.execute_input": "2022-09-16T05:48:04.872235Z",
     "iopub.status.busy": "2022-09-16T05:48:04.871784Z",
     "iopub.status.idle": "2022-09-16T05:48:04.907942Z",
     "shell.execute_reply": "2022-09-16T05:48:04.907081Z",
     "shell.execute_reply.started": "2022-09-16T05:48:04.872202Z"
    },
    "id": "jYol7gOqczzB",
    "outputId": "8ec527eb-dfcc-4f22-eff1-0bf7f75c7b17"
   },
   "outputs": [],
   "source": [
    "rank = final_df[['date','home_team','away_team','home_team_fifa_rank', 'away_team_fifa_rank']]\n",
    "home = rank[['date','home_team','home_team_fifa_rank']].rename(columns={\"home_team\":\"team\",\"home_team_fifa_rank\":\"rank\"})\n",
    "away = rank[['date','away_team','away_team_fifa_rank']].rename(columns={\"away_team\":\"team\",\"away_team_fifa_rank\":\"rank\"})\n",
    "rank = pd.concat([home,away])\n",
    "\n",
    "# Select each country latest match\n",
    "rank = rank.sort_values(['team','date'],ascending=[True,False])\n",
    "rank_top10 = rank.groupby('team').first().sort_values('rank',ascending=True).reset_index()\n",
    "rank_top10 = rank_top10[(rank_top10[\"team\"].apply(lambda x: x in list_2022))][0:10]\n",
    "rank_top10"
   ]
  },
  {
   "cell_type": "markdown",
   "metadata": {
    "id": "Ro9fGfmtrxsh"
   },
   "source": [
    "**Top 10 teams with the highest winning percentage in QATAR 2022**"
   ]
  },
  {
   "cell_type": "code",
   "execution_count": null,
   "metadata": {
    "colab": {
     "base_uri": "https://localhost:8080/",
     "height": 363
    },
    "execution": {
     "iopub.execute_input": "2022-09-16T05:48:11.334009Z",
     "iopub.status.busy": "2022-09-16T05:48:11.333717Z",
     "iopub.status.idle": "2022-09-16T05:48:11.481754Z",
     "shell.execute_reply": "2022-09-16T05:48:11.480973Z",
     "shell.execute_reply.started": "2022-09-16T05:48:11.333987Z"
    },
    "id": "hxARVGK5czzB",
    "outputId": "46bc1966-39db-491c-def7-656d587b06c8"
   },
   "outputs": [],
   "source": [
    "rank_top10['Home_win_Per'] = np.vectorize(home_percentage)(rank_top10['team'])\n",
    "rank_top10['Away_win_Per'] = np.vectorize(away_percentage)(rank_top10['team'])\n",
    "rank_top10['Average_win_Per'] = round((rank_top10['Home_win_Per'] + rank_top10['Away_win_Per'])/2)\n",
    "rank_top10_Win = rank_top10.sort_values('Average_win_Per',ascending=False)\n",
    "rank_top10_Win"
   ]
  },
  {
   "cell_type": "code",
   "execution_count": null,
   "metadata": {
    "colab": {
     "base_uri": "https://localhost:8080/",
     "height": 322
    },
    "execution": {
     "iopub.execute_input": "2022-09-16T05:48:19.991849Z",
     "iopub.status.busy": "2022-09-16T05:48:19.991516Z",
     "iopub.status.idle": "2022-09-16T05:48:20.193784Z",
     "shell.execute_reply": "2022-09-16T05:48:20.192252Z",
     "shell.execute_reply.started": "2022-09-16T05:48:19.991822Z"
    },
    "id": "QEAzw2oAczzB",
    "outputId": "65d0eba2-5d28-4af9-bbef-0a50f54ab3d0"
   },
   "outputs": [],
   "source": [
    "sns.barplot(data=rank_top10_Win,x='Average_win_Per',y='team',color=\"#7F1431\")\n",
    "plt.xticks()\n",
    "plt.xlabel('Win Average', size = 20) \n",
    "plt.ylabel('Team', size = 20) \n",
    "plt.title('Top 10 QATAR 2022 teams with the highest winning percentage')"
   ]
  },
  {
   "cell_type": "markdown",
   "metadata": {
    "id": "RVxHeFDwsbNb"
   },
   "source": [
    "### Correlation Matrix\n",
    "\n",
    "basically we are mapping the win,draw,lose to 1,2,0. then we are finding the correlation between hometeamwin AND other columns.\n",
    "in the output we can see that hometeam offence score has the highest correlation. that means offensive teams have better chances of winning home.\n",
    "\n",
    "these values are pearson coefficients that range from -1 to 1. 0-1 is a good corelation. -1 -> 0 is a bad one. "
   ]
  },
  {
   "cell_type": "code",
   "execution_count": null,
   "metadata": {
    "execution": {
     "iopub.execute_input": "2022-09-16T05:48:32.091183Z",
     "iopub.status.busy": "2022-09-16T05:48:32.090871Z",
     "iopub.status.idle": "2022-09-16T05:48:32.099575Z",
     "shell.execute_reply": "2022-09-16T05:48:32.098881Z",
     "shell.execute_reply.started": "2022-09-16T05:48:32.091149Z"
    },
    "id": "a1FcVAFGczzB"
   },
   "outputs": [],
   "source": [
    "# Mapping numeric values for home_team_result to find the correleations\n",
    "final_df['home_team_result'] = final_df['home_team_result'].map({'Win':1, 'Draw':2, 'Lose':0})"
   ]
  },
  {
   "cell_type": "code",
   "execution_count": null,
   "metadata": {
    "colab": {
     "base_uri": "https://localhost:8080/"
    },
    "execution": {
     "iopub.execute_input": "2022-09-16T05:48:41.376897Z",
     "iopub.status.busy": "2022-09-16T05:48:41.376545Z",
     "iopub.status.idle": "2022-09-16T05:48:41.394297Z",
     "shell.execute_reply": "2022-09-16T05:48:41.392928Z",
     "shell.execute_reply.started": "2022-09-16T05:48:41.37687Z"
    },
    "id": "jAI_G4p2czzB",
    "outputId": "477efee0-e214-495b-8c8c-f86e4df8813c"
   },
   "outputs": [],
   "source": [
    "final_df.corr()['home_team_result'].sort_values(ascending=False)"
   ]
  },
  {
   "cell_type": "markdown",
   "metadata": {
    "id": "DOCd7Joh1CYc"
   },
   "source": [
    "Dropping unnecessary colums."
   ]
  },
  {
   "cell_type": "code",
   "execution_count": null,
   "metadata": {
    "id": "izXSRnBk5n1K"
   },
   "outputs": [],
   "source": [
    "#Dropping unnecessary colums\n",
    "final_df = final_df.drop(['date', 'home_team_continent', 'away_team_continent', 'home_team_total_fifa_points', 'away_team_total_fifa_points', 'home_team_score', 'away_team_score', 'tournament', 'city', 'country', 'neutral_location', 'shoot_out'],axis=1)"
   ]
  },
  {
   "cell_type": "code",
   "execution_count": null,
   "metadata": {
    "colab": {
     "base_uri": "https://localhost:8080/"
    },
    "execution": {
     "iopub.execute_input": "2022-09-16T05:49:03.425873Z",
     "iopub.status.busy": "2022-09-16T05:49:03.425574Z",
     "iopub.status.idle": "2022-09-16T05:49:03.432142Z",
     "shell.execute_reply": "2022-09-16T05:49:03.431248Z",
     "shell.execute_reply.started": "2022-09-16T05:49:03.42585Z"
    },
    "id": "PHis1RgqczzB",
    "outputId": "07210637-d01e-4f48-87ea-0309498b21b9"
   },
   "outputs": [],
   "source": [
    "final_df.columns"
   ]
  },
  {
   "cell_type": "code",
   "execution_count": null,
   "metadata": {
    "execution": {
     "iopub.execute_input": "2022-09-16T05:49:10.723944Z",
     "iopub.status.busy": "2022-09-16T05:49:10.723621Z",
     "iopub.status.idle": "2022-09-16T05:49:10.73044Z",
     "shell.execute_reply": "2022-09-16T05:49:10.729146Z",
     "shell.execute_reply.started": "2022-09-16T05:49:10.72392Z"
    },
    "id": "taJRn50YczzB"
   },
   "outputs": [],
   "source": [
    "# Change column names\n",
    "final_df.rename(columns={\"home_team\":\"Team1\", \"away_team\":\"Team2\", \"home_team_fifa_rank\":\"Team1_FIFA_RANK\", \n",
    "                         \"away_team_fifa_rank\":\"Team2_FIFA_RANK\", \"home_team_result\":\"Team1_Result\", \"home_team_goalkeeper_score\":\"Team1_Goalkeeper_Score\",\n",
    "                        \"away_team_goalkeeper_score\":\"Team2_Goalkeeper_Score\", \"home_team_mean_defense_score\":\"Team1_Defense\",\n",
    "                        \"home_team_mean_offense_score\":\"Team1_Offense\", \"home_team_mean_midfield_score\":\"Team1_Midfield\",\n",
    "                        \"away_team_mean_defense_score\":\"Team2_Defense\", \"away_team_mean_offense_score\":\"Team2_Offense\",\n",
    "                        \"away_team_mean_midfield_score\":\"Team2_Midfield\"}, inplace=True)"
   ]
  },
  {
   "cell_type": "code",
   "execution_count": null,
   "metadata": {
    "colab": {
     "base_uri": "https://localhost:8080/",
     "height": 808
    },
    "id": "Z_pSWrvusVDC",
    "outputId": "e7f0c79d-b322-4538-ef2f-5ffdeff610cf"
   },
   "outputs": [],
   "source": [
    "plt.figure(figsize=(10, 4), dpi=200)\n",
    "sns.heatmap(final_df.corr(), annot=True)\n",
    "\n",
    "# This correlation heatmap provides insights into soccer team statistics, likely for match analysis or prediction:\n",
    "# 1. Team performance metrics (Defense, Offense, Midfield) are strongly correlated within each team (0.91-0.93), indicating consistent overall team quality.\n",
    "# 2. FIFA rankings have weak to moderate negative correlations with other metrics, suggesting higher-ranked teams (lower rank numbers) tend to perform better in various aspects.\n",
    "# 3. Goalkeeper scores correlate moderately with team performance metrics (0.81-0.85), showing their importance to overall team strength.\n",
    "# 4. There's little correlation between opposing teams' metrics, implying team strengths are largely independent\n",
    "# 5. Match result (Team1_Result) has weak correlations with most variables, with the strongest being a slight psitive correlation (0.17) with Team1's offense.\n",
    "# 6. The symmetrical pattern for Team1 and Team2 variables suggests consistent relationships across teams.\n",
    "# Overall, this analysis reveals strong internal consistency in team performances, the relative independence of opposing team strengths, and the complex nature of predicting match outcomes based on these metrics."
   ]
  },
  {
   "cell_type": "code",
   "execution_count": null,
   "metadata": {
    "colab": {
     "base_uri": "https://localhost:8080/"
    },
    "execution": {
     "iopub.execute_input": "2022-09-16T05:49:29.588706Z",
     "iopub.status.busy": "2022-09-16T05:49:29.588338Z",
     "iopub.status.idle": "2022-09-16T05:49:29.605047Z",
     "shell.execute_reply": "2022-09-16T05:49:29.604222Z",
     "shell.execute_reply.started": "2022-09-16T05:49:29.58867Z"
    },
    "id": "HKqMcyd3czzC",
    "outputId": "63160a06-c040-450f-a977-dd1a0fb10d68"
   },
   "outputs": [],
   "source": [
    "final_df.info()"
   ]
  },
  {
   "cell_type": "code",
   "execution_count": null,
   "metadata": {
    "colab": {
     "base_uri": "https://localhost:8080/",
     "height": 505
    },
    "id": "1st6r-I8dCOJ",
    "outputId": "36e53a7a-252a-47f3-ce63-a69ed86c30af"
   },
   "outputs": [],
   "source": [
    "final_df"
   ]
  },
  {
   "cell_type": "markdown",
   "metadata": {
    "id": "ODvtpbrbz3Ui"
   },
   "source": [
    "Exporting the training dataset."
   ]
  },
  {
   "cell_type": "code",
   "execution_count": null,
   "metadata": {
    "id": "yExreJrr5H-G"
   },
   "outputs": [],
   "source": [
    "final_df.to_csv(r'C:\\Users\\hp\\Downloads\\QATAR_2022_Prediction-master\\QATAR_2022_Prediction-master\\data\\training.csv', index = False)"
   ]
  },
  {
   "cell_type": "markdown",
   "metadata": {
    "id": "ztEdYY8VMHeT"
   },
   "source": [
    "### Creating \"Last Team Scores\" dataset\n",
    "This dataset contains the qualifications of each team on the previous FIFA date and will be used to predict the World Cup matches."
   ]
  },
  {
   "cell_type": "code",
   "execution_count": null,
   "metadata": {
    "colab": {
     "base_uri": "https://localhost:8080/",
     "height": 206
    },
    "id": "DVoNJ6acMF4_",
    "outputId": "d339d098-91fc-434d-ca21-e6830d5aa31d"
   },
   "outputs": [],
   "source": [
    "last_goalkeeper = df[['date', 'home_team', 'away_team', 'home_team_goalkeeper_score', 'away_team_goalkeeper_score']]\n",
    "home = last_goalkeeper[['date', 'home_team', 'home_team_goalkeeper_score']].rename(columns={\"home_team\":\"team\", \"home_team_goalkeeper_score\":\"goalkeeper_score\"})\n",
    "away = last_goalkeeper[['date', 'away_team', 'away_team_goalkeeper_score']].rename(columns={\"away_team\":\"team\", \"away_team_goalkeeper_score\":\"goalkeeper_score\"})\n",
    "last_goalkeeper = pd.concat([home,away])\n",
    "\n",
    "last_goalkeeper = last_goalkeeper.sort_values(['date', 'team'],ascending=[False, True])\n",
    "\n",
    "list_2022 = ['Qatar', 'Germany', 'Denmark', 'Brazil', 'France', 'Belgium', 'Croatia', 'Spain', 'Serbia', 'England', 'Switzerland', 'Netherlands', 'Argentina', 'IR Iran', 'Korea Republic', 'Japan', 'Saudi Arabia', 'Ecuador', 'Uruguay', 'Canada', 'Ghana', 'Senegal', 'Portugal', 'Poland', 'Tunisia', 'Morocco', 'Cameroon', 'USA', 'Mexico', 'Wales', 'Australia', 'Costa Rica']\n",
    "\n",
    "rank_qatar = last_rank[(last_rank[\"team\"].apply(lambda x: x in list_2022))]\n",
    "rank_qatar = rank_qatar.groupby('team').first().reset_index()\n",
    "goal_qatar = last_goalkeeper[(last_goalkeeper[\"team\"].apply(lambda x: x in list_2022))]\n",
    "goal_qatar = goal_qatar.groupby('team').first().reset_index()\n",
    "goal_qatar = goal_qatar.drop(['date'], axis = 1)\n",
    "off_qatar = last_offense[(last_offense[\"team\"].apply(lambda x: x in list_2022))]\n",
    "off_qatar = off_qatar.groupby('team').first().reset_index()\n",
    "off_qatar = off_qatar.drop(['date'], axis = 1)\n",
    "mid_qatar = last_midfield[(last_midfield[\"team\"].apply(lambda x: x in list_2022))]\n",
    "mid_qatar = mid_qatar.groupby('team').first().reset_index()\n",
    "mid_qatar = mid_qatar.drop(['date'], axis = 1)\n",
    "def_qatar = last_defense[(last_defense[\"team\"].apply(lambda x: x in list_2022))]\n",
    "def_qatar = def_qatar.groupby('team').first().reset_index()\n",
    "def_qatar = def_qatar.drop(['date'], axis = 1)\n",
    "\n",
    "qatar = pd.merge(rank_qatar, goal_qatar, on = 'team')\n",
    "qatar = pd.merge(qatar, def_qatar, on ='team')\n",
    "qatar = pd.merge(qatar, off_qatar, on ='team')\n",
    "qatar = pd.merge(qatar, mid_qatar, on ='team')\n",
    "\n",
    "qatar['goalkeeper_score'] = round(qatar[\"goalkeeper_score\"].transform(lambda x: x.fillna(x.mean())))\n",
    "qatar['offense_score'] = round(qatar[\"offense_score\"].transform(lambda x: x.fillna(x.mean())))\n",
    "qatar['midfield_score'] = round(qatar[\"midfield_score\"].transform(lambda x: x.fillna(x.mean())))\n",
    "qatar['defense_score'] = round(qatar[\"defense_score\"].transform(lambda x: x.fillna(x.mean())))\n",
    "qatar.head(5)"
   ]
  },
  {
   "cell_type": "markdown",
   "metadata": {
    "id": "jpEwbIaM6NhY"
   },
   "source": [
    "Exporting the \"Last Team Scores\" dataset."
   ]
  },
  {
   "cell_type": "code",
   "execution_count": null,
   "metadata": {
    "id": "fs3i-xDS6Zop"
   },
   "outputs": [],
   "source": [
    "qatar.to_csv(r'C:\\Users\\hp\\Downloads\\QATAR_2022_Prediction-master\\QATAR_2022_Prediction-master\\data\\last_team_scores.csv', index = False)"
   ]
  }
 ],
 "metadata": {
  "colab": {
   "collapsed_sections": [
    "o4eemYO6mKL4"
   ],
   "include_colab_link": true,
   "provenance": []
  },
  "kernelspec": {
   "display_name": "Python 3 (ipykernel)",
   "language": "python",
   "name": "python3"
  },
  "language_info": {
   "codemirror_mode": {
    "name": "ipython",
    "version": 3
   },
   "file_extension": ".py",
   "mimetype": "text/x-python",
   "name": "python",
   "nbconvert_exporter": "python",
   "pygments_lexer": "ipython3",
   "version": "3.9.7"
  }
 },
 "nbformat": 4,
 "nbformat_minor": 1
}
