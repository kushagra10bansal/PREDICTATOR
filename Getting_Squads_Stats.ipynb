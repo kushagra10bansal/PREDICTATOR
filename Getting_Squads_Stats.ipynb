{
 "cells": [
  {
   "cell_type": "markdown",
   "metadata": {
    "id": "uQ0Aqca4-0qP"
   },
   "source": [
    "This notebook aims to determine the potential of the teams qualified for the QATAR 2022 World Cup based on the FIFA 22 player statistics."
   ]
  },
  {
   "cell_type": "code",
   "execution_count": 1,
   "metadata": {
    "_cell_guid": "b1076dfc-b9ad-4769-8c92-a6c4dae69d19",
    "_uuid": "8f2839f25d086af736a60e9eeb907d3b93b6e0e5",
    "execution": {
     "iopub.execute_input": "2022-09-16T05:39:39.646382Z",
     "iopub.status.busy": "2022-09-16T05:39:39.646004Z",
     "iopub.status.idle": "2022-09-16T05:39:40.126489Z",
     "shell.execute_reply": "2022-09-16T05:39:40.125346Z",
     "shell.execute_reply.started": "2022-09-16T05:39:39.646359Z"
    },
    "id": "bR2H_TM4czyy"
   },
   "outputs": [
    {
     "name": "stderr",
     "output_type": "stream",
     "text": [
      "C:\\Users\\hp\\anaconda3\\lib\\site-packages\\scipy\\__init__.py:146: UserWarning: A NumPy version >=1.16.5 and <1.23.0 is required for this version of SciPy (detected version 1.26.4\n",
      "  warnings.warn(f\"A NumPy version >={np_minversion} and <{np_maxversion}\"\n"
     ]
    }
   ],
   "source": [
    "import numpy as np \n",
    "import pandas as pd \n",
    "import matplotlib.pyplot as plt\n",
    "import seaborn as sns\n",
    "import os\n",
    "import warnings\n",
    "warnings.filterwarnings('ignore')\n"
   ]
  },
  {
   "cell_type": "code",
   "execution_count": 2,
   "metadata": {
    "colab": {
     "base_uri": "https://localhost:8080/"
    },
    "id": "kJ4NBv4INfu5",
    "outputId": "33450881-f335-4a94-e79c-e80a55552ae2"
   },
   "outputs": [
    {
     "data": {
      "text/plain": [
       "(19239, 110)"
      ]
     },
     "execution_count": 2,
     "metadata": {},
     "output_type": "execute_result"
    }
   ],
   "source": [
    "FIFA22 = pd.read_csv(r'C:\\Users\\hp\\Downloads\\QATAR_2022_Prediction-master\\QATAR_2022_Prediction-master\\data\\players_22.csv')\n",
    "FIFA22.shape"
   ]
  },
  {
   "cell_type": "code",
   "execution_count": 3,
   "metadata": {
    "colab": {
     "base_uri": "https://localhost:8080/"
    },
    "id": "D8Gx09XrNkJz",
    "outputId": "2fedfe60-2d3a-47bd-eba6-82d45ae17196"
   },
   "outputs": [
    {
     "name": "stdout",
     "output_type": "stream",
     "text": [
      "<class 'pandas.core.frame.DataFrame'>\n",
      "RangeIndex: 19239 entries, 0 to 19238\n",
      "Data columns (total 9 columns):\n",
      " #   Column            Non-Null Count  Dtype  \n",
      "---  ------            --------------  -----  \n",
      " 0   short_name        19239 non-null  object \n",
      " 1   age               19239 non-null  int64  \n",
      " 2   nationality_name  19239 non-null  object \n",
      " 3   overall           19239 non-null  int64  \n",
      " 4   potential         19239 non-null  int64  \n",
      " 5   club_name         19178 non-null  object \n",
      " 6   value_eur         19165 non-null  float64\n",
      " 7   wage_eur          19178 non-null  float64\n",
      " 8   player_positions  19239 non-null  object \n",
      "dtypes: float64(2), int64(3), object(4)\n",
      "memory usage: 1.3+ MB\n"
     ]
    }
   ],
   "source": [
    "interesting_columns = ['short_name', 'age', 'nationality_name', 'overall', 'potential', 'club_name', 'value_eur', 'wage_eur', 'player_positions']\n",
    "FIFA22 = pd.DataFrame(FIFA22, columns=interesting_columns)\n",
    "FIFA22.info();"
   ]
  },
  {
   "cell_type": "code",
   "execution_count": 4,
   "metadata": {
    "colab": {
     "base_uri": "https://localhost:8080/",
     "height": 206
    },
    "id": "4KDg8uxCls24",
    "outputId": "7238329d-1d1a-4375-e090-2f666743ef06"
   },
   "outputs": [
    {
     "data": {
      "text/html": [
       "<div>\n",
       "<style scoped>\n",
       "    .dataframe tbody tr th:only-of-type {\n",
       "        vertical-align: middle;\n",
       "    }\n",
       "\n",
       "    .dataframe tbody tr th {\n",
       "        vertical-align: top;\n",
       "    }\n",
       "\n",
       "    .dataframe thead th {\n",
       "        text-align: right;\n",
       "    }\n",
       "</style>\n",
       "<table border=\"1\" class=\"dataframe\">\n",
       "  <thead>\n",
       "    <tr style=\"text-align: right;\">\n",
       "      <th></th>\n",
       "      <th>short_name</th>\n",
       "      <th>age</th>\n",
       "      <th>nationality_name</th>\n",
       "      <th>overall</th>\n",
       "      <th>potential</th>\n",
       "      <th>club_name</th>\n",
       "      <th>value_eur</th>\n",
       "      <th>wage_eur</th>\n",
       "      <th>player_positions</th>\n",
       "    </tr>\n",
       "  </thead>\n",
       "  <tbody>\n",
       "    <tr>\n",
       "      <th>0</th>\n",
       "      <td>L. Messi</td>\n",
       "      <td>34</td>\n",
       "      <td>Argentina</td>\n",
       "      <td>93</td>\n",
       "      <td>93</td>\n",
       "      <td>Paris Saint-Germain</td>\n",
       "      <td>78000000.0</td>\n",
       "      <td>320000.0</td>\n",
       "      <td>RW, ST, CF</td>\n",
       "    </tr>\n",
       "    <tr>\n",
       "      <th>1</th>\n",
       "      <td>R. Lewandowski</td>\n",
       "      <td>32</td>\n",
       "      <td>Poland</td>\n",
       "      <td>92</td>\n",
       "      <td>92</td>\n",
       "      <td>FC Bayern München</td>\n",
       "      <td>119500000.0</td>\n",
       "      <td>270000.0</td>\n",
       "      <td>ST</td>\n",
       "    </tr>\n",
       "    <tr>\n",
       "      <th>2</th>\n",
       "      <td>Cristiano Ronaldo</td>\n",
       "      <td>36</td>\n",
       "      <td>Portugal</td>\n",
       "      <td>91</td>\n",
       "      <td>91</td>\n",
       "      <td>Manchester United</td>\n",
       "      <td>45000000.0</td>\n",
       "      <td>270000.0</td>\n",
       "      <td>ST, LW</td>\n",
       "    </tr>\n",
       "    <tr>\n",
       "      <th>3</th>\n",
       "      <td>Neymar Jr</td>\n",
       "      <td>29</td>\n",
       "      <td>Brazil</td>\n",
       "      <td>91</td>\n",
       "      <td>91</td>\n",
       "      <td>Paris Saint-Germain</td>\n",
       "      <td>129000000.0</td>\n",
       "      <td>270000.0</td>\n",
       "      <td>LW, CAM</td>\n",
       "    </tr>\n",
       "    <tr>\n",
       "      <th>4</th>\n",
       "      <td>K. De Bruyne</td>\n",
       "      <td>30</td>\n",
       "      <td>Belgium</td>\n",
       "      <td>91</td>\n",
       "      <td>91</td>\n",
       "      <td>Manchester City</td>\n",
       "      <td>125500000.0</td>\n",
       "      <td>350000.0</td>\n",
       "      <td>CM, CAM</td>\n",
       "    </tr>\n",
       "  </tbody>\n",
       "</table>\n",
       "</div>"
      ],
      "text/plain": [
       "          short_name  age nationality_name  overall  potential  \\\n",
       "0           L. Messi   34        Argentina       93         93   \n",
       "1     R. Lewandowski   32           Poland       92         92   \n",
       "2  Cristiano Ronaldo   36         Portugal       91         91   \n",
       "3          Neymar Jr   29           Brazil       91         91   \n",
       "4       K. De Bruyne   30          Belgium       91         91   \n",
       "\n",
       "             club_name    value_eur  wage_eur player_positions  \n",
       "0  Paris Saint-Germain   78000000.0  320000.0       RW, ST, CF  \n",
       "1    FC Bayern München  119500000.0  270000.0               ST  \n",
       "2    Manchester United   45000000.0  270000.0           ST, LW  \n",
       "3  Paris Saint-Germain  129000000.0  270000.0          LW, CAM  \n",
       "4      Manchester City  125500000.0  350000.0          CM, CAM  "
      ]
     },
     "execution_count": 4,
     "metadata": {},
     "output_type": "execute_result"
    }
   ],
   "source": [
    "FIFA22.head(5)"
   ]
  },
  {
   "cell_type": "markdown",
   "metadata": {
    "id": "eoXCG_KKnFjv"
   },
   "source": [
    "# DATA PREPARATION\n",
    "- I filter the teams that will participate in the world cup and eliminate the others.\n",
    "\n",
    "- To make things simpler, I select the first position from list as preferred and save it in 'Position' column."
   ]
  },
  {
   "cell_type": "code",
   "execution_count": 5,
   "metadata": {
    "colab": {
     "base_uri": "https://localhost:8080/"
    },
    "id": "s6m4lKtaOURy",
    "outputId": "8b65b48d-d4f4-4b6c-9572-98815d94e85a"
   },
   "outputs": [
    {
     "data": {
      "text/plain": [
       "array(['Argentina', 'Poland', 'Portugal', 'Brazil', 'Belgium', 'France',\n",
       "       'Germany', 'England', 'Korea Republic', 'Netherlands', 'Senegal',\n",
       "       'Spain', 'Uruguay', 'Costa Rica', 'Croatia', 'Denmark',\n",
       "       'Switzerland', 'Serbia', 'Morocco', 'Mexico', 'Cameroon', 'Ghana',\n",
       "       'Wales', 'USA', 'Canada', 'Japan', 'Ecuador', 'IR Iran',\n",
       "       'Australia', 'Tunisia', 'Saudi Arabia'], dtype=object)"
      ]
     },
     "execution_count": 5,
     "metadata": {},
     "output_type": "execute_result"
    }
   ],
   "source": [
    "list_2022 = ['Qatar', 'Germany', 'Denmark', 'Brazil', 'France', 'Belgium', 'Croatia', 'Spain', 'Serbia', 'England', 'Switzerland', 'Netherlands', 'Argentina', 'IR Iran', 'Korea Republic', 'Japan', 'Saudi Arabia', 'Ecuador', 'Uruguay', 'Canada', 'Ghana', 'Senegal', 'Portugal', 'Poland', 'Tunisia', 'Morocco', 'Cameroon', 'USA', 'Mexico', 'Wales', 'Australia', 'Costa Rica']\n",
    "FIFA22['Position'] = FIFA22['player_positions'].str.split(\",\").str[0]\n",
    "FIFA22 = FIFA22[[\"short_name\", \"age\", \"nationality_name\", 'overall', 'potential', \"club_name\", \"Position\", \"value_eur\", \"wage_eur\"]]\n",
    "FIFA22 = FIFA22[(FIFA22[\"nationality_name\"].apply(lambda x: x in list_2022))]\n",
    "FIFA22['nationality_name'].unique()"
   ]
  },
  {
   "cell_type": "code",
   "execution_count": 6,
   "metadata": {
    "colab": {
     "base_uri": "https://localhost:8080/",
     "height": 206
    },
    "id": "PCzcUG73mrWW",
    "outputId": "03e5ede3-e5a4-4a72-91c4-591d79a39f25"
   },
   "outputs": [
    {
     "data": {
      "text/html": [
       "<div>\n",
       "<style scoped>\n",
       "    .dataframe tbody tr th:only-of-type {\n",
       "        vertical-align: middle;\n",
       "    }\n",
       "\n",
       "    .dataframe tbody tr th {\n",
       "        vertical-align: top;\n",
       "    }\n",
       "\n",
       "    .dataframe thead th {\n",
       "        text-align: right;\n",
       "    }\n",
       "</style>\n",
       "<table border=\"1\" class=\"dataframe\">\n",
       "  <thead>\n",
       "    <tr style=\"text-align: right;\">\n",
       "      <th></th>\n",
       "      <th>short_name</th>\n",
       "      <th>age</th>\n",
       "      <th>nationality_name</th>\n",
       "      <th>overall</th>\n",
       "      <th>potential</th>\n",
       "      <th>club_name</th>\n",
       "      <th>Position</th>\n",
       "      <th>value_eur</th>\n",
       "      <th>wage_eur</th>\n",
       "    </tr>\n",
       "  </thead>\n",
       "  <tbody>\n",
       "    <tr>\n",
       "      <th>0</th>\n",
       "      <td>L. Messi</td>\n",
       "      <td>34</td>\n",
       "      <td>Argentina</td>\n",
       "      <td>93</td>\n",
       "      <td>93</td>\n",
       "      <td>Paris Saint-Germain</td>\n",
       "      <td>RW</td>\n",
       "      <td>78000000.0</td>\n",
       "      <td>320000.0</td>\n",
       "    </tr>\n",
       "    <tr>\n",
       "      <th>1</th>\n",
       "      <td>R. Lewandowski</td>\n",
       "      <td>32</td>\n",
       "      <td>Poland</td>\n",
       "      <td>92</td>\n",
       "      <td>92</td>\n",
       "      <td>FC Bayern München</td>\n",
       "      <td>ST</td>\n",
       "      <td>119500000.0</td>\n",
       "      <td>270000.0</td>\n",
       "    </tr>\n",
       "    <tr>\n",
       "      <th>2</th>\n",
       "      <td>Cristiano Ronaldo</td>\n",
       "      <td>36</td>\n",
       "      <td>Portugal</td>\n",
       "      <td>91</td>\n",
       "      <td>91</td>\n",
       "      <td>Manchester United</td>\n",
       "      <td>ST</td>\n",
       "      <td>45000000.0</td>\n",
       "      <td>270000.0</td>\n",
       "    </tr>\n",
       "    <tr>\n",
       "      <th>3</th>\n",
       "      <td>Neymar Jr</td>\n",
       "      <td>29</td>\n",
       "      <td>Brazil</td>\n",
       "      <td>91</td>\n",
       "      <td>91</td>\n",
       "      <td>Paris Saint-Germain</td>\n",
       "      <td>LW</td>\n",
       "      <td>129000000.0</td>\n",
       "      <td>270000.0</td>\n",
       "    </tr>\n",
       "    <tr>\n",
       "      <th>4</th>\n",
       "      <td>K. De Bruyne</td>\n",
       "      <td>30</td>\n",
       "      <td>Belgium</td>\n",
       "      <td>91</td>\n",
       "      <td>91</td>\n",
       "      <td>Manchester City</td>\n",
       "      <td>CM</td>\n",
       "      <td>125500000.0</td>\n",
       "      <td>350000.0</td>\n",
       "    </tr>\n",
       "  </tbody>\n",
       "</table>\n",
       "</div>"
      ],
      "text/plain": [
       "          short_name  age nationality_name  overall  potential  \\\n",
       "0           L. Messi   34        Argentina       93         93   \n",
       "1     R. Lewandowski   32           Poland       92         92   \n",
       "2  Cristiano Ronaldo   36         Portugal       91         91   \n",
       "3          Neymar Jr   29           Brazil       91         91   \n",
       "4       K. De Bruyne   30          Belgium       91         91   \n",
       "\n",
       "             club_name Position    value_eur  wage_eur  \n",
       "0  Paris Saint-Germain       RW   78000000.0  320000.0  \n",
       "1    FC Bayern München       ST  119500000.0  270000.0  \n",
       "2    Manchester United       ST   45000000.0  270000.0  \n",
       "3  Paris Saint-Germain       LW  129000000.0  270000.0  \n",
       "4      Manchester City       CM  125500000.0  350000.0  "
      ]
     },
     "execution_count": 6,
     "metadata": {},
     "output_type": "execute_result"
    }
   ],
   "source": [
    "FIFA22.head(5)"
   ]
  },
  {
   "cell_type": "markdown",
   "metadata": {
    "id": "-oo377OOmeIN"
   },
   "source": [
    "# ANALYSIS"
   ]
  },
  {
   "cell_type": "markdown",
   "metadata": {
    "id": "HTZrPKd2CmSz"
   },
   "source": [
    "### Top 20 players overall"
   ]
  },
  {
   "cell_type": "code",
   "execution_count": 7,
   "metadata": {
    "colab": {
     "base_uri": "https://localhost:8080/",
     "height": 304
    },
    "id": "LhMpZkrgnVZb",
    "outputId": "82d47185-16ac-459b-fd46-4d37cfce0ce2"
   },
   "outputs": [
    {
     "data": {
      "image/png": "[encoded data removed]",
      "text/plain": [
       "<Figure size 432x288 with 1 Axes>"
      ]
     },
     "metadata": {
      "needs_background": "light"
     },
     "output_type": "display_data"
    }
   ],
   "source": [
    "Overall = FIFA22[\"overall\"]\n",
    "footballer_name = FIFA22[\"short_name\"]\n",
    "\n",
    "x = FIFA22['short_name'].head(20) \n",
    "y = FIFA22['overall'].head(20)\n",
    "\n",
    "# plot\n",
    "\n",
    "ax= sns.barplot(x=y, y=x, color=\"#7F1431\", orient='h')\n",
    "plt.xlabel('Overall Ratings', size=20) \n",
    "plt.ylabel('Player', size=20) \n",
    "plt.title('Top 20 players QATAR World Cup')\n",
    "\n",
    "plt.show()"
   ]
  },
  {
   "cell_type": "markdown",
   "metadata": {
    "id": "BNVSFQzVOR8B"
   },
   "source": [
    "### Best Squad Analysis"
   ]
  },
  {
   "cell_type": "code",
   "execution_count": 8,
   "metadata": {
    "id": "7hu_JwqTZ5Wn"
   },
   "outputs": [],
   "source": [
    "def get_best_squad(formation):\n",
    "    FIFA22_copy = FIFA22.copy()\n",
    "    store = []\n",
    "    \n",
    "    # iterate through all positions in the input formation and get players with highest overall respective to the position\n",
    "    for i in formation:\n",
    "        store.append([\n",
    "            i,\n",
    "            # this line returns the index of the player with max rating in that particular position. then age, clubname, wage etc are also extracted of the same player \n",
    "            FIFA22_copy.loc[[FIFA22_copy[FIFA22_copy['Position'] == i]['overall'].idxmax()]]['short_name'].to_string(index=False), \n",
    "            FIFA22_copy[FIFA22_copy['Position'] == i]['overall'].max(),\n",
    "            FIFA22_copy.loc[[FIFA22_copy[FIFA22_copy['Position'] == i]['overall'].idxmax()]]['age'].to_string(index=False),\n",
    "            FIFA22_copy.loc[[FIFA22_copy[FIFA22_copy['Position'] == i]['overall'].idxmax()]]['club_name'].to_string(index=False),\n",
    "            FIFA22_copy.loc[[FIFA22_copy[FIFA22_copy['Position'] == i]['overall'].idxmax()]]['value_eur'].to_string(index=False),\n",
    "            FIFA22_copy.loc[[FIFA22_copy[FIFA22_copy['Position'] == i]['overall'].idxmax()]]['wage_eur'].to_string(index=False)\n",
    "        ])\n",
    "        # the selected player is removed from the list of players so that the same player cannot be selected for the same positions (example: 2 CB)\n",
    "        FIFA22_copy.drop(FIFA22_copy[FIFA22_copy['Position'] == i]['overall'].idxmax(), \n",
    "                         inplace=True)\n",
    "    # return store with only necessary columns\n",
    "    return pd.DataFrame(np.array(store).reshape(11,7), \n",
    "                        columns = ['Position', 'short_name', 'overall', 'age', 'club_name', 'value_eur', 'wage_eur']).to_string(index = False)"
   ]
  },
  {
   "cell_type": "markdown",
   "metadata": {
    "id": "-nOnecnyGyl2"
   },
   "source": [
    "**Best 4-3-3**"
   ]
  },
  {
   "cell_type": "code",
   "execution_count": 9,
   "metadata": {
    "colab": {
     "base_uri": "https://localhost:8080/"
    },
    "id": "WNVwwmOeZ-kp",
    "outputId": "30c9bce9-aaa9-425b-bee5-4b38b1078774"
   },
   "outputs": [
    {
     "name": "stdout",
     "output_type": "stream",
     "text": [
      "4-3-3\n",
      "Position          short_name overall age           club_name   value_eur wage_eur\n",
      "      GK            M. Neuer      90  35   FC Bayern München  13500000.0  86000.0\n",
      "      RB T. Alexander-Arnold      87  22           Liverpool 114000000.0 150000.0\n",
      "      CB         V. van Dijk      89  29           Liverpool  86000000.0 230000.0\n",
      "      CB        Sergio Ramos      88  35 Paris Saint-Germain  24000000.0 115000.0\n",
      "      LB          Jordi Alba      86  32        FC Barcelona  47000000.0 200000.0\n",
      "     CDM            N. Kanté      90  30             Chelsea 100000000.0 230000.0\n",
      "      CM        K. De Bruyne      91  30     Manchester City 125500000.0 350000.0\n",
      "     CAM     Bruno Fernandes      88  26   Manchester United 107500000.0 250000.0\n",
      "      RW            L. Messi      93  34 Paris Saint-Germain  78000000.0 320000.0\n",
      "      ST      R. Lewandowski      92  32   FC Bayern München 119500000.0 270000.0\n",
      "      LW           Neymar Jr      91  29 Paris Saint-Germain 129000000.0 270000.0\n"
     ]
    }
   ],
   "source": [
    "squad_433 = ['GK', 'RB', 'CB', 'CB', 'LB', 'CDM', 'CM', 'CAM', 'RW', 'ST', 'LW']\n",
    "print ('4-3-3')\n",
    "print (get_best_squad(squad_433))"
   ]
  },
  {
   "cell_type": "markdown",
   "metadata": {
    "id": "uuFTVlbBHpeO"
   },
   "source": [
    "**Best 4-4-2**"
   ]
  },
  {
   "cell_type": "code",
   "execution_count": 10,
   "metadata": {
    "colab": {
     "base_uri": "https://localhost:8080/"
    },
    "id": "FMEQtd4PaEL6",
    "outputId": "e3599c6f-870a-4f5f-9190-6436e1542894"
   },
   "outputs": [
    {
     "name": "stdout",
     "output_type": "stream",
     "text": [
      "4-4-2\n",
      "Position          short_name overall age           club_name   value_eur wage_eur\n",
      "      GK            M. Neuer      90  35   FC Bayern München  13500000.0  86000.0\n",
      "      RB T. Alexander-Arnold      87  22           Liverpool 114000000.0 150000.0\n",
      "      CB         V. van Dijk      89  29           Liverpool  86000000.0 230000.0\n",
      "      CB        Sergio Ramos      88  35 Paris Saint-Germain  24000000.0 115000.0\n",
      "      LB          Jordi Alba      86  32        FC Barcelona  47000000.0 200000.0\n",
      "      RM           J. Sancho      87  21   Manchester United 116500000.0 150000.0\n",
      "      CM        K. De Bruyne      91  30     Manchester City 125500000.0 350000.0\n",
      "      CM            T. Kroos      88  31      Real Madrid CF  75000000.0 310000.0\n",
      "      LM              H. Son      89  28   Tottenham Hotspur 104000000.0 220000.0\n",
      "      ST      R. Lewandowski      92  32   FC Bayern München 119500000.0 270000.0\n",
      "      ST   Cristiano Ronaldo      91  36   Manchester United  45000000.0 270000.0\n"
     ]
    }
   ],
   "source": [
    "squad_442 = ['GK', 'RB', 'CB', 'CB', 'LB', 'RM', 'CM', 'CM', 'LM', 'ST', 'ST']\n",
    "print ('4-4-2')\n",
    "print (get_best_squad(squad_442))"
   ]
  },
  {
   "cell_type": "markdown",
   "metadata": {
    "id": "gMS35D_yHuuz"
   },
   "source": [
    "**Best 4-2-3-1**"
   ]
  },
  {
   "cell_type": "code",
   "execution_count": 11,
   "metadata": {
    "colab": {
     "base_uri": "https://localhost:8080/"
    },
    "id": "F-6RRhOQaE11",
    "outputId": "5cab1847-614b-49b7-9a41-d32e0db2fdec"
   },
   "outputs": [
    {
     "name": "stdout",
     "output_type": "stream",
     "text": [
      "4-2-3-1\n",
      "Position          short_name overall age           club_name   value_eur wage_eur\n",
      "      GK            M. Neuer      90  35   FC Bayern München  13500000.0  86000.0\n",
      "      RB T. Alexander-Arnold      87  22           Liverpool 114000000.0 150000.0\n",
      "      CB         V. van Dijk      89  29           Liverpool  86000000.0 230000.0\n",
      "      CB        Sergio Ramos      88  35 Paris Saint-Germain  24000000.0 115000.0\n",
      "      LB          Jordi Alba      86  32        FC Barcelona  47000000.0 200000.0\n",
      "     CDM            N. Kanté      90  30             Chelsea 100000000.0 230000.0\n",
      "     CDM            Casemiro      89  29      Real Madrid CF  88000000.0 310000.0\n",
      "     CAM     Bruno Fernandes      88  26   Manchester United 107500000.0 250000.0\n",
      "     CAM           T. Müller      87  31   FC Bayern München  66000000.0 140000.0\n",
      "     CAM      Bernardo Silva      86  26     Manchester City  80000000.0 200000.0\n",
      "      ST      R. Lewandowski      92  32   FC Bayern München 119500000.0 270000.0\n"
     ]
    }
   ],
   "source": [
    "squad_4231 = ['GK', 'RB', 'CB', 'CB', 'LB', 'CDM', 'CDM', 'CAM', 'CAM', 'CAM', 'ST']\n",
    "print ('4-2-3-1')\n",
    "print (get_best_squad(squad_4231))"
   ]
  },
  {
   "cell_type": "markdown",
   "metadata": {
    "id": "JtWjbCG8IxOc"
   },
   "source": [
    "### Top 10 Promising Teams QATAR World Cup\n",
    "I define a function to find the best formation of each national team and its potential. Also, a function to summarize the team."
   ]
  },
  {
   "cell_type": "code",
   "execution_count": 12,
   "metadata": {
    "id": "dBvZzRuGaHhn"
   },
   "outputs": [],
   "source": [
    "def get_best_squad_n(formation, nationality, measurement = 'overall'):\n",
    "    FIFA22_copy = FIFA22.copy()\n",
    "    FIFA22_copy = FIFA22_copy[FIFA22_copy['nationality_name'] == nationality]\n",
    "    store = []\n",
    "    for i in formation:\n",
    "        store.append([\n",
    "            FIFA22_copy.loc[[FIFA22_copy[FIFA22_copy['Position'].str.contains(i)][measurement].idxmax()]]['Position'].to_string(index = False),\n",
    "            FIFA22_copy.loc[[FIFA22_copy[FIFA22_copy['Position'].str.contains(i)][measurement].idxmax()]]['short_name'].to_string(index = False), \n",
    "            FIFA22_copy[FIFA22_copy['Position'].str.contains(i)][measurement].max(),\n",
    "            FIFA22_copy.loc[[FIFA22_copy[FIFA22_copy['Position'].str.contains(i)][measurement].idxmax()]]['age'].to_string(index = False),\n",
    "            FIFA22_copy.loc[[FIFA22_copy[FIFA22_copy['Position'].str.contains(i)][measurement].idxmax()]]['club_name'].to_string(index = False),\n",
    "            FIFA22_copy.loc[[FIFA22_copy[FIFA22_copy['Position'].str.contains(i)][measurement].idxmax()]]['value_eur'].to_string(index = False),\n",
    "            FIFA22_copy.loc[[FIFA22_copy[FIFA22_copy['Position'].str.contains(i)][measurement].idxmax()]]['wage_eur'].to_string(index = False)\n",
    "        ])    \n",
    "        FIFA22_copy.drop(FIFA22_copy[FIFA22_copy['Position'].str.contains(i)][measurement].idxmax(),inplace = True)\n",
    "    return np.mean([x[2] for x in store]).round(2), pd.DataFrame(np.array(store).reshape(11,7),columns = ['Position', 'short_name', measurement, 'age', 'club_name', 'value_eur', 'wage_eur']).to_string(index = False)"
   ]
  },
  {
   "cell_type": "code",
   "execution_count": 13,
   "metadata": {
    "id": "siDiwSKUaSjm"
   },
   "outputs": [],
   "source": [
    "def get_summary_n(squad_list, squad_name, nationality_list):\n",
    "    summary = []\n",
    "    for i in nationality_list:\n",
    "        count = 0\n",
    "        for j in squad_list:\n",
    "            try:\n",
    "                # for overall rating\n",
    "                O_temp_rating, _  = get_best_squad_n(formation = j, nationality = i, measurement = 'overall')\n",
    "                # for potential rating & corresponding value\n",
    "                P_temp_rating, _ = get_best_squad_n(formation = j, nationality = i, measurement = 'potential')\n",
    "                summary.append([i, squad_name[count], O_temp_rating.round(2), P_temp_rating.round(2)])    \n",
    "                count += 1\n",
    "            except:\n",
    "                count += 1  \n",
    "    return summary"
   ]
  },
  {
   "cell_type": "code",
   "execution_count": 14,
   "metadata": {
    "id": "HZQykRr2aYHs"
   },
   "outputs": [],
   "source": [
    "squad_343_strict = ['GK', 'CB', 'CB', 'CB', 'RB|RWB', 'CM|CDM', 'CM|CDM', 'LB|LWB', 'RM|RW', 'ST|CF', 'LM|LW']\n",
    "squad_442_strict = ['GK', 'RB|RWB', 'CB', 'CB', 'LB|LWB', 'RM', 'CM|CDM', 'CM|CAM', 'LM', 'ST|CF', 'ST|CF']\n",
    "squad_4312_strict = ['GK', 'RB|RWB', 'CB', 'CB', 'LB|LWB', 'CM|CDM', 'CM|CAM|CDM', 'CM|CAM|CDM', 'CAM|CF', 'ST|CF', 'ST|CF']\n",
    "squad_433_strict = ['GK', 'RB|RWB', 'CB', 'CB', 'LB|LWB', 'CM|CDM', 'CM|CAM|CDM', 'CM|CAM|CDM', 'RM|RW', 'ST|CF', 'LM|LW']\n",
    "squad_4231_strict = ['GK', 'RB|RWB', 'CB', 'CB', 'LB|LWB', 'CM|CDM', 'CM|CDM', 'RM|RW', 'CAM', 'LM|LW', 'ST|CF']"
   ]
  },
  {
   "cell_type": "code",
   "execution_count": 15,
   "metadata": {
    "id": "-8KO-y2QagvX"
   },
   "outputs": [],
   "source": [
    "squad_list = [squad_343_strict, squad_442_strict, squad_4312_strict, squad_433_strict, squad_4231_strict]\n",
    "squad_name = ['3-4-3', '4-4-2', '4-3-1-2', '4-3-3', '4-2-3-1']"
   ]
  },
  {
   "cell_type": "markdown",
   "metadata": {
    "id": "eE9wD0oeqqoA"
   },
   "source": [
    "Initially, I want to see if the complete information is there (i.e., the overall and the potential of the 32 teams of QATAR 2022)"
   ]
  },
  {
   "cell_type": "code",
   "execution_count": 16,
   "metadata": {
    "id": "4P1dJt51qKdG"
   },
   "outputs": [],
   "source": [
    "# we are making a new dataframe with overall and potential ratings\n",
    "country = pd.DataFrame(np.array(get_summary_n(squad_list, squad_name, list_2022)).reshape(-1,4), columns = ['nationality_name', 'Squad', 'overall', 'potential'])\n",
    "country.set_index('nationality_name', inplace = False)\n",
    "country[['overall', 'potential']] = country[['overall', 'potential']].astype(float)"
   ]
  },
  {
   "cell_type": "code",
   "execution_count": 17,
   "metadata": {
    "colab": {
     "base_uri": "https://localhost:8080/"
    },
    "id": "lDL9wImO9OhT",
    "outputId": "42ae2cfb-f130-4a35-cac2-72762293adb0"
   },
   "outputs": [
    {
     "name": "stdout",
     "output_type": "stream",
     "text": [
      "Qatar\n",
      "Tunisia\n"
     ]
    }
   ],
   "source": [
    "list_2022 = ['Qatar', 'Germany', 'Denmark', 'Brazil', 'France', 'Belgium', 'Croatia', 'Spain', 'Serbia', 'England', 'Switzerland', 'Netherlands', 'Argentina', 'IR Iran', 'Korea Republic', 'Japan', 'Saudi Arabia', 'Ecuador', 'Uruguay', 'Canada', 'Ghana', 'Senegal', 'Portugal', 'Poland', 'Tunisia', 'Morocco', 'Cameroon', 'USA', 'Mexico', 'Wales', 'Australia', 'Costa Rica']\n",
    "miss = list_2022\n",
    "miss = [item if item not in country.nationality_name.values else False for item in miss]\n",
    "for item in miss:\n",
    "    if(type(item) == str):\n",
    "        print(item)"
   ]
  },
  {
   "cell_type": "markdown",
   "metadata": {
    "id": "TGMpDE0-LgSc"
   },
   "source": [
    "Qatar and Tunisia do not have enough information to calculate the overall and the potential of the templates, therefore, I assign the average to Qatar since it is the Local selection. On the other hand, Tunisia has less potential."
   ]
  },
  {
   "cell_type": "code",
   "execution_count": 18,
   "metadata": {
    "id": "ovm-biDWGh5s"
   },
   "outputs": [],
   "source": [
    "# Fixing Qatar and Tunisia na's\n",
    "Qatar = {'nationality_name':'Qatar', 'Squad':'4-3-3'}\n",
    "Tunisia = {'nationality_name':'Tunisia', 'Squad':'4-3-3', 'overall':73.0, 'potential':76.0}\n",
    "country = country.append(Qatar, ignore_index=True)\n",
    "country = country.append(Tunisia, ignore_index=True)\n",
    "country['overall'] = country[\"overall\"].transform(lambda x: x.fillna(x.mean()))\n",
    "country['potential'] = country[\"potential\"].transform(lambda x: x.fillna(x.mean()))\n",
    "country = country.drop(['Squad'],axis=1)\n",
    "country = country.sort_values(['nationality_name','potential'],ascending=[True,False])\n",
    "country_final = country.groupby('nationality_name').first().sort_values('potential', ascending=False)[0:32].reset_index() "
   ]
  },
  {
   "cell_type": "code",
   "execution_count": 19,
   "metadata": {
    "id": "FqSe2_LBQGol"
   },
   "outputs": [],
   "source": [
    "# Exporting overall and potential of QATAR 2022 Teams\n",
    "country_final.to_csv(r\"C:\\Users\\hp\\Downloads\\QATAR_2022_Prediction-master\\QATAR_2022_Prediction-master\\data\\squad_stats.csv\", index=False)\n"
   ]
  },
  {
   "cell_type": "markdown",
   "metadata": {
    "id": "e4CbLDW1Nvms"
   },
   "source": [
    "**Table** - Top 10 Promising Teams"
   ]
  },
  {
   "cell_type": "code",
   "execution_count": 20,
   "metadata": {
    "colab": {
     "base_uri": "https://localhost:8080/",
     "height": 363
    },
    "id": "pAurl3OyNs6o",
    "outputId": "70ec86d5-ca43-473e-d60f-b02995d44978"
   },
   "outputs": [
    {
     "data": {
      "text/html": [
       "<div>\n",
       "<style scoped>\n",
       "    .dataframe tbody tr th:only-of-type {\n",
       "        vertical-align: middle;\n",
       "    }\n",
       "\n",
       "    .dataframe tbody tr th {\n",
       "        vertical-align: top;\n",
       "    }\n",
       "\n",
       "    .dataframe thead th {\n",
       "        text-align: right;\n",
       "    }\n",
       "</style>\n",
       "<table border=\"1\" class=\"dataframe\">\n",
       "  <thead>\n",
       "    <tr style=\"text-align: right;\">\n",
       "      <th></th>\n",
       "      <th>nationality_name</th>\n",
       "      <th>overall</th>\n",
       "      <th>potential</th>\n",
       "    </tr>\n",
       "  </thead>\n",
       "  <tbody>\n",
       "    <tr>\n",
       "      <th>0</th>\n",
       "      <td>France</td>\n",
       "      <td>85.55</td>\n",
       "      <td>89.18</td>\n",
       "    </tr>\n",
       "    <tr>\n",
       "      <th>1</th>\n",
       "      <td>England</td>\n",
       "      <td>85.18</td>\n",
       "      <td>89.00</td>\n",
       "    </tr>\n",
       "    <tr>\n",
       "      <th>2</th>\n",
       "      <td>Spain</td>\n",
       "      <td>85.55</td>\n",
       "      <td>88.36</td>\n",
       "    </tr>\n",
       "    <tr>\n",
       "      <th>3</th>\n",
       "      <td>Brazil</td>\n",
       "      <td>85.64</td>\n",
       "      <td>88.09</td>\n",
       "    </tr>\n",
       "    <tr>\n",
       "      <th>4</th>\n",
       "      <td>Portugal</td>\n",
       "      <td>85.00</td>\n",
       "      <td>88.00</td>\n",
       "    </tr>\n",
       "    <tr>\n",
       "      <th>5</th>\n",
       "      <td>Germany</td>\n",
       "      <td>85.00</td>\n",
       "      <td>87.55</td>\n",
       "    </tr>\n",
       "    <tr>\n",
       "      <th>6</th>\n",
       "      <td>Netherlands</td>\n",
       "      <td>83.36</td>\n",
       "      <td>87.00</td>\n",
       "    </tr>\n",
       "    <tr>\n",
       "      <th>7</th>\n",
       "      <td>Argentina</td>\n",
       "      <td>83.73</td>\n",
       "      <td>86.18</td>\n",
       "    </tr>\n",
       "    <tr>\n",
       "      <th>8</th>\n",
       "      <td>Belgium</td>\n",
       "      <td>83.45</td>\n",
       "      <td>85.55</td>\n",
       "    </tr>\n",
       "    <tr>\n",
       "      <th>9</th>\n",
       "      <td>Uruguay</td>\n",
       "      <td>80.55</td>\n",
       "      <td>84.64</td>\n",
       "    </tr>\n",
       "  </tbody>\n",
       "</table>\n",
       "</div>"
      ],
      "text/plain": [
       "  nationality_name  overall  potential\n",
       "0           France    85.55      89.18\n",
       "1          England    85.18      89.00\n",
       "2            Spain    85.55      88.36\n",
       "3           Brazil    85.64      88.09\n",
       "4         Portugal    85.00      88.00\n",
       "5          Germany    85.00      87.55\n",
       "6      Netherlands    83.36      87.00\n",
       "7        Argentina    83.73      86.18\n",
       "8          Belgium    83.45      85.55\n",
       "9          Uruguay    80.55      84.64"
      ]
     },
     "execution_count": 20,
     "metadata": {},
     "output_type": "execute_result"
    }
   ],
   "source": [
    "country_top10 = country.groupby('nationality_name').first().sort_values('potential',ascending=False)[0:10].reset_index()\n",
    "country_top10"
   ]
  },
  {
   "cell_type": "markdown",
   "metadata": {
    "id": "PBL12kcGOVh5"
   },
   "source": [
    "**Graph** - Top 10 Promising Teams"
   ]
  },
  {
   "cell_type": "code",
   "execution_count": 21,
   "metadata": {
    "colab": {
     "base_uri": "https://localhost:8080/",
     "height": 304
    },
    "id": "96wsyw7q0B2H",
    "outputId": "b1cdd941-78e0-4170-aa87-b0af445de171"
   },
   "outputs": [
    {
     "data": {
      "image/png": "[encoded data removed]",
      "text/plain": [
       "<Figure size 432x288 with 1 Axes>"
      ]
     },
     "metadata": {
      "needs_background": "light"
     },
     "output_type": "display_data"
    }
   ],
   "source": [
    "x = country_top10['nationality_name']\n",
    "y = country_top10['potential']\n",
    "\n",
    "# plot\n",
    "ax= sns.barplot(x=y, y=x, color=\"#7F1431\", orient='h')\n",
    "plt.xlabel('Team Potential Ratings', size = 20) \n",
    "plt.ylabel('Team', size = 20 ) \n",
    "plt.title('Top 10 Promising Teams QATAR World Cup')\n",
    "\n",
    "plt.show()"
   ]
  },
  {
   "cell_type": "markdown",
   "metadata": {
    "id": "RGylfQRnPkHH"
   },
   "source": [
    "### Detailed analysis of some of the best teams"
   ]
  },
  {
   "cell_type": "markdown",
   "metadata": {
    "id": "i7kJekYychug"
   },
   "source": [
    "**France :**"
   ]
  },
  {
   "cell_type": "code",
   "execution_count": 22,
   "metadata": {
    "colab": {
     "base_uri": "https://localhost:8080/",
     "height": 206
    },
    "id": "f4BvsxF1cmO7",
    "outputId": "657ada71-3e07-47ad-bdf2-a532de7d5a82"
   },
   "outputs": [
    {
     "data": {
      "text/html": [
       "<div>\n",
       "<style scoped>\n",
       "    .dataframe tbody tr th:only-of-type {\n",
       "        vertical-align: middle;\n",
       "    }\n",
       "\n",
       "    .dataframe tbody tr th {\n",
       "        vertical-align: top;\n",
       "    }\n",
       "\n",
       "    .dataframe thead th {\n",
       "        text-align: right;\n",
       "    }\n",
       "</style>\n",
       "<table border=\"1\" class=\"dataframe\">\n",
       "  <thead>\n",
       "    <tr style=\"text-align: right;\">\n",
       "      <th></th>\n",
       "      <th>Nationality</th>\n",
       "      <th>Squad</th>\n",
       "      <th>Overall</th>\n",
       "      <th>Potential</th>\n",
       "    </tr>\n",
       "  </thead>\n",
       "  <tbody>\n",
       "    <tr>\n",
       "      <th>0</th>\n",
       "      <td>France</td>\n",
       "      <td>3-4-3</td>\n",
       "      <td>85.55</td>\n",
       "      <td>89.18</td>\n",
       "    </tr>\n",
       "    <tr>\n",
       "      <th>1</th>\n",
       "      <td>France</td>\n",
       "      <td>4-4-2</td>\n",
       "      <td>85.73</td>\n",
       "      <td>88.73</td>\n",
       "    </tr>\n",
       "    <tr>\n",
       "      <th>2</th>\n",
       "      <td>France</td>\n",
       "      <td>4-3-1-2</td>\n",
       "      <td>86.09</td>\n",
       "      <td>88.91</td>\n",
       "    </tr>\n",
       "    <tr>\n",
       "      <th>3</th>\n",
       "      <td>France</td>\n",
       "      <td>4-3-3</td>\n",
       "      <td>85.64</td>\n",
       "      <td>89.09</td>\n",
       "    </tr>\n",
       "    <tr>\n",
       "      <th>4</th>\n",
       "      <td>France</td>\n",
       "      <td>4-2-3-1</td>\n",
       "      <td>85.64</td>\n",
       "      <td>89.09</td>\n",
       "    </tr>\n",
       "  </tbody>\n",
       "</table>\n",
       "</div>"
      ],
      "text/plain": [
       "  Nationality    Squad  Overall  Potential\n",
       "0      France    3-4-3    85.55      89.18\n",
       "1      France    4-4-2    85.73      88.73\n",
       "2      France  4-3-1-2    86.09      88.91\n",
       "3      France    4-3-3    85.64      89.09\n",
       "4      France  4-2-3-1    85.64      89.09"
      ]
     },
     "execution_count": 22,
     "metadata": {},
     "output_type": "execute_result"
    }
   ],
   "source": [
    "France = pd.DataFrame(np.array(get_summary_n(squad_list, squad_name, ['France'])).reshape(-1,4), columns = ['Nationality', 'Squad', 'Overall', 'Potential'])\n",
    "France.set_index('Nationality', inplace = False)\n",
    "France[['Overall', 'Potential']] = France[['Overall', 'Potential']].astype(float)\n",
    "France"
   ]
  },
  {
   "cell_type": "code",
   "execution_count": 23,
   "metadata": {
    "colab": {
     "base_uri": "https://localhost:8080/"
    },
    "id": "aJfx7e3UcoOq",
    "outputId": "31786ea2-8606-404a-ed05-fa62e6c299ea"
   },
   "outputs": [
    {
     "name": "stdout",
     "output_type": "stream",
     "text": [
      "-Overall-\n",
      "Average rating: 86.1\n",
      "Position   short_name overall age           club_name   value_eur wage_eur\n",
      "      GK    H. Lloris      87  34   Tottenham Hotspur  13500000.0 125000.0\n",
      "     RWB   N. Mukiele      81  23          RB Leipzig  34500000.0  65000.0\n",
      "      CB    R. Varane      86  28   Manchester United  68500000.0 180000.0\n",
      "      CB  P. Kimpembe      83  25 Paris Saint-Germain  45500000.0  90000.0\n",
      "      LB     L. Digne      84  27             Everton  40500000.0 110000.0\n",
      "     CDM     N. Kanté      90  30             Chelsea 100000000.0 230000.0\n",
      "      CM     P. Pogba      87  28   Manchester United  79500000.0 220000.0\n",
      "     CAM     N. Fekir      84  27 Real Betis Balompié  45000000.0  42000.0\n",
      "      CF   K. Benzema      89  33      Real Madrid CF  66000000.0 350000.0\n",
      "      ST    K. Mbappé      91  22 Paris Saint-Germain 194000000.0 230000.0\n",
      "      ST A. Griezmann      85  30  Atlético de Madrid  53000000.0 220000.0\n",
      "-Potential-\n",
      "Average rating: 89.2\n",
      "Position   short_name potential age           club_name   value_eur wage_eur\n",
      "      GK   M. Maignan        89  25            AC Milan  49500000.0  45000.0\n",
      "      CB D. Upamecano        90  22   FC Bayern München  64000000.0  70000.0\n",
      "      CB    J. Koundé        89  22          Sevilla FC  53000000.0  33000.0\n",
      "      CB    R. Varane        88  28   Manchester United  68500000.0 180000.0\n",
      "     RWB   N. Mukiele        85  23          RB Leipzig  34500000.0  65000.0\n",
      "     CDM     N. Kanté        90  30             Chelsea 100000000.0 230000.0\n",
      "      CM E. Camavinga        89  18      Real Madrid CF  29500000.0  44000.0\n",
      "      LB T. Hernández        90  23            AC Milan  62500000.0  51000.0\n",
      "      RW   O. Dembélé        88  24        FC Barcelona  55000000.0 165000.0\n",
      "      ST    K. Mbappé        95  22 Paris Saint-Germain 194000000.0 230000.0\n",
      "      LW     M. Diaby        88  21 Bayer 04 Leverkusen  52500000.0  52000.0\n"
     ]
    }
   ],
   "source": [
    "# highest overall rating\n",
    "rating_4312_FR_Overall, best_list_4312_FR_Overall = get_best_squad_n(squad_4312_strict, 'France', 'overall')\n",
    "print('-Overall-')\n",
    "print('Average rating: {:.1f}'.format(rating_4312_FR_Overall))\n",
    "print(best_list_4312_FR_Overall)\n",
    "#------------------------------------------------------------------------------------------------------------\n",
    "rating_343_FR_Potential, best_list_343_FR_Potential = get_best_squad_n(squad_343_strict, 'France', 'potential')\n",
    "print('-Potential-')\n",
    "print('Average rating: {:.1f}'.format(rating_343_FR_Potential))\n",
    "print(best_list_343_FR_Potential)"
   ]
  },
  {
   "cell_type": "markdown",
   "metadata": {
    "id": "MwuELULccf3k"
   },
   "source": [
    "**Spain :**"
   ]
  },
  {
   "cell_type": "code",
   "execution_count": 28,
   "metadata": {
    "colab": {
     "base_uri": "https://localhost:8080/",
     "height": 206
    },
    "id": "CSNrdIqFcEmM",
    "outputId": "ced6c2d1-ce20-40c1-a57d-57cf8a6b05a9"
   },
   "outputs": [
    {
     "data": {
      "text/html": [
       "<div>\n",
       "<style scoped>\n",
       "    .dataframe tbody tr th:only-of-type {\n",
       "        vertical-align: middle;\n",
       "    }\n",
       "\n",
       "    .dataframe tbody tr th {\n",
       "        vertical-align: top;\n",
       "    }\n",
       "\n",
       "    .dataframe thead th {\n",
       "        text-align: right;\n",
       "    }\n",
       "</style>\n",
       "<table border=\"1\" class=\"dataframe\">\n",
       "  <thead>\n",
       "    <tr style=\"text-align: right;\">\n",
       "      <th></th>\n",
       "      <th>nationality_name</th>\n",
       "      <th>Squad</th>\n",
       "      <th>overall</th>\n",
       "      <th>potential</th>\n",
       "    </tr>\n",
       "  </thead>\n",
       "  <tbody>\n",
       "    <tr>\n",
       "      <th>0</th>\n",
       "      <td>Spain</td>\n",
       "      <td>3-4-3</td>\n",
       "      <td>85.36</td>\n",
       "      <td>88.27</td>\n",
       "    </tr>\n",
       "    <tr>\n",
       "      <th>1</th>\n",
       "      <td>Spain</td>\n",
       "      <td>4-4-2</td>\n",
       "      <td>84.82</td>\n",
       "      <td>87.09</td>\n",
       "    </tr>\n",
       "    <tr>\n",
       "      <th>2</th>\n",
       "      <td>Spain</td>\n",
       "      <td>4-3-1-2</td>\n",
       "      <td>85.64</td>\n",
       "      <td>87.55</td>\n",
       "    </tr>\n",
       "    <tr>\n",
       "      <th>3</th>\n",
       "      <td>Spain</td>\n",
       "      <td>4-3-3</td>\n",
       "      <td>85.55</td>\n",
       "      <td>88.36</td>\n",
       "    </tr>\n",
       "    <tr>\n",
       "      <th>4</th>\n",
       "      <td>Spain</td>\n",
       "      <td>4-2-3-1</td>\n",
       "      <td>85.45</td>\n",
       "      <td>88.18</td>\n",
       "    </tr>\n",
       "  </tbody>\n",
       "</table>\n",
       "</div>"
      ],
      "text/plain": [
       "  nationality_name    Squad  overall  potential\n",
       "0            Spain    3-4-3    85.36      88.27\n",
       "1            Spain    4-4-2    84.82      87.09\n",
       "2            Spain  4-3-1-2    85.64      87.55\n",
       "3            Spain    4-3-3    85.55      88.36\n",
       "4            Spain  4-2-3-1    85.45      88.18"
      ]
     },
     "execution_count": 28,
     "metadata": {},
     "output_type": "execute_result"
    }
   ],
   "source": [
    "Spain = pd.DataFrame(np.array(get_summary_n(squad_list, squad_name, ['Spain'])).reshape(-1,4), columns = ['nationality_name', 'Squad', 'overall', 'potential'])\n",
    "Spain.set_index('nationality_name', inplace = False)\n",
    "Spain[['overall', 'potential']] = Spain[['overall', 'potential']].astype(float)\n",
    "Spain "
   ]
  },
  {
   "cell_type": "code",
   "execution_count": 29,
   "metadata": {
    "colab": {
     "base_uri": "https://localhost:8080/"
    },
    "id": "S8WZbJhRcZDu",
    "outputId": "8328c372-5f42-446d-a594-c8833b99e85d"
   },
   "outputs": [
    {
     "name": "stdout",
     "output_type": "stream",
     "text": [
      "-Overall-\n",
      "Average rating: 85.6\n",
      "Position      short_name overall age           club_name  value_eur wage_eur\n",
      "      GK          De Gea      84  30   Manchester United 28000000.0 120000.0\n",
      "      RB        Carvajal      85  29      Real Madrid CF 47500000.0 210000.0\n",
      "      CB    Sergio Ramos      88  35 Paris Saint-Germain 24000000.0 115000.0\n",
      "      CB      A. Laporte      86  27     Manchester City 77000000.0 185000.0\n",
      "      LB      Jordi Alba      86  32        FC Barcelona 47000000.0 200000.0\n",
      "      CM          Thiago      86  30           Liverpool 65000000.0 180000.0\n",
      "     CDM Sergio Busquets      86  32        FC Barcelona 45000000.0 200000.0\n",
      "      CM          Parejo      86  32       Villarreal CF 53500000.0  64000.0\n",
      "     CAM     David Silva      85  35       Real Sociedad 22000000.0  44000.0\n",
      "      ST   Gerard Moreno      86  29       Villarreal CF 68000000.0  73000.0\n",
      "      ST      Iago Aspas      84  33    RC Celta de Vigo 27000000.0  46000.0\n",
      "-Potential-\n",
      "Average rating: 88.4\n",
      "Position      short_name potential age               club_name  value_eur wage_eur\n",
      "      GK      Unai Simón        86  24 Athletic Club de Bilbao 34500000.0  24000.0\n",
      "     RWB     Pedro Porro        87  21             Sporting CP 40500000.0  80000.0\n",
      "      CB      A. Laporte        89  27         Manchester City 77000000.0 185000.0\n",
      "      CB      Pau Torres        89  24           Villarreal CF 56500000.0  35000.0\n",
      "      LB      Jordi Alba        86  32            FC Barcelona 47000000.0 200000.0\n",
      "      CM           Pedri        91  18            FC Barcelona 54000000.0  51000.0\n",
      "      CM Marcos Llorente        89  26      Atlético de Madrid 88000000.0  95000.0\n",
      "     CDM           Rodri        89  25         Manchester City 81000000.0 175000.0\n",
      "      RW   Ferran Torres        90  21         Manchester City 68500000.0 120000.0\n",
      "      ST   Gerard Moreno        86  29           Villarreal CF 68000000.0  73000.0\n",
      "      LW       Ansu Fati        90  18            FC Barcelona 17500000.0  44000.0\n"
     ]
    }
   ],
   "source": [
    "rating_4312_GER_Overall, best_list_4312_GER_Overall = get_best_squad_n(squad_4312_strict, 'Spain', 'overall')\n",
    "print('-Overall-')\n",
    "print('Average rating: {:.1f}'.format(rating_4312_GER_Overall))\n",
    "print(best_list_4312_GER_Overall)\n",
    "#------------------------------------------------------------------------------------------------------------\n",
    "rating_433_GER_Potential, best_list_433_GER_Potential = get_best_squad_n(squad_433_strict, 'Spain', 'potential')\n",
    "print('-Potential-')\n",
    "print('Average rating: {:.1f}'.format(rating_433_GER_Potential))\n",
    "print(best_list_433_GER_Potential)"
   ]
  },
  {
   "cell_type": "markdown",
   "metadata": {
    "id": "fJ2BM3CFcsAq"
   },
   "source": [
    "**Argentina :**"
   ]
  },
  {
   "cell_type": "code",
   "execution_count": 30,
   "metadata": {
    "colab": {
     "base_uri": "https://localhost:8080/",
     "height": 206
    },
    "id": "Fo0FPTWuczLP",
    "outputId": "091fde7a-7d2d-4a9f-e168-d8d010e5824d"
   },
   "outputs": [
    {
     "data": {
      "text/html": [
       "<div>\n",
       "<style scoped>\n",
       "    .dataframe tbody tr th:only-of-type {\n",
       "        vertical-align: middle;\n",
       "    }\n",
       "\n",
       "    .dataframe tbody tr th {\n",
       "        vertical-align: top;\n",
       "    }\n",
       "\n",
       "    .dataframe thead th {\n",
       "        text-align: right;\n",
       "    }\n",
       "</style>\n",
       "<table border=\"1\" class=\"dataframe\">\n",
       "  <thead>\n",
       "    <tr style=\"text-align: right;\">\n",
       "      <th></th>\n",
       "      <th>nationality_name</th>\n",
       "      <th>Squad</th>\n",
       "      <th>overall</th>\n",
       "      <th>potential</th>\n",
       "    </tr>\n",
       "  </thead>\n",
       "  <tbody>\n",
       "    <tr>\n",
       "      <th>0</th>\n",
       "      <td>Argentina</td>\n",
       "      <td>3-4-3</td>\n",
       "      <td>83.18</td>\n",
       "      <td>86.00</td>\n",
       "    </tr>\n",
       "    <tr>\n",
       "      <th>1</th>\n",
       "      <td>Argentina</td>\n",
       "      <td>4-4-2</td>\n",
       "      <td>82.45</td>\n",
       "      <td>85.64</td>\n",
       "    </tr>\n",
       "    <tr>\n",
       "      <th>2</th>\n",
       "      <td>Argentina</td>\n",
       "      <td>4-3-1-2</td>\n",
       "      <td>83.36</td>\n",
       "      <td>85.91</td>\n",
       "    </tr>\n",
       "    <tr>\n",
       "      <th>3</th>\n",
       "      <td>Argentina</td>\n",
       "      <td>4-3-3</td>\n",
       "      <td>83.73</td>\n",
       "      <td>86.18</td>\n",
       "    </tr>\n",
       "    <tr>\n",
       "      <th>4</th>\n",
       "      <td>Argentina</td>\n",
       "      <td>4-2-3-1</td>\n",
       "      <td>83.73</td>\n",
       "      <td>86.09</td>\n",
       "    </tr>\n",
       "  </tbody>\n",
       "</table>\n",
       "</div>"
      ],
      "text/plain": [
       "  nationality_name    Squad  overall  potential\n",
       "0        Argentina    3-4-3    83.18      86.00\n",
       "1        Argentina    4-4-2    82.45      85.64\n",
       "2        Argentina  4-3-1-2    83.36      85.91\n",
       "3        Argentina    4-3-3    83.73      86.18\n",
       "4        Argentina  4-2-3-1    83.73      86.09"
      ]
     },
     "execution_count": 30,
     "metadata": {},
     "output_type": "execute_result"
    }
   ],
   "source": [
    "Argentina = pd.DataFrame(np.array(get_summary_n(squad_list, squad_name, ['Argentina'])).reshape(-1,4), columns = ['nationality_name', 'Squad', 'overall', 'potential'])\n",
    "Argentina.set_index('nationality_name', inplace = False)\n",
    "Argentina[['overall', 'potential']] = Argentina[['overall', 'potential']].astype(float)\n",
    "Argentina"
   ]
  },
  {
   "cell_type": "code",
   "execution_count": 31,
   "metadata": {
    "colab": {
     "base_uri": "https://localhost:8080/"
    },
    "id": "fOQypMCUc3Vx",
    "outputId": "cc68dda0-6beb-4ebb-8fd8-5fd772c97195"
   },
   "outputs": [
    {
     "name": "stdout",
     "output_type": "stream",
     "text": [
      "-Overall-\n",
      "Average rating: 83.7\n",
      "Position  short_name overall age           club_name  value_eur wage_eur\n",
      "      GK E. Martínez      84  28         Aston Villa 33500000.0  81000.0\n",
      "      RB  G. Montiel      78  24          Sevilla FC 21000000.0  23000.0\n",
      "      CB   C. Romero      82  23   Tottenham Hotspur 41500000.0  51000.0\n",
      "      CB N. Otamendi      81  33          SL Benfica 12500000.0  18000.0\n",
      "      LB    M. Acuña      84  29          Sevilla FC 37000000.0  45000.0\n",
      "     CDM   É. Banega      82  33           Al Shabab 15000000.0  46000.0\n",
      "     CAM    A. Gómez      85  33          Sevilla FC 33500000.0  51000.0\n",
      "      CM  R. De Paul      82  27  Atlético de Madrid 35000000.0  68000.0\n",
      "      RW    L. Messi      93  34 Paris Saint-Germain 78000000.0 320000.0\n",
      "      ST   S. Agüero      87  33        FC Barcelona 51000000.0 260000.0\n",
      "      LW  L. Ocampos      83  26          Sevilla FC 39500000.0  46000.0\n",
      "-Potential-\n",
      "Average rating: 86.2\n",
      "Position  short_name potential age                   club_name  value_eur wage_eur\n",
      "      GK E. Martínez        85  28                 Aston Villa 33500000.0  81000.0\n",
      "      RB  G. Montiel        84  24                  Sevilla FC 21000000.0  23000.0\n",
      "      CB   C. Romero        87  23           Tottenham Hotspur 41500000.0  51000.0\n",
      "      CB   M. Senesi        85  24                   Feyenoord 25000000.0  12000.0\n",
      "      LB    M. Acuña        84  29                  Sevilla FC 37000000.0  45000.0\n",
      "      CM G. Lo Celso        85  25           Tottenham Hotspur 35500000.0  95000.0\n",
      "     CAM   T. Almada        86  20             Vélez Sarsfield 10000000.0  10000.0\n",
      "     CAM    A. Gómez        85  33                  Sevilla FC 33500000.0  51000.0\n",
      "      RW    L. Messi        93  34         Paris Saint-Germain 78000000.0 320000.0\n",
      "      ST L. Martínez        89  23                       Inter 78000000.0 145000.0\n",
      "      LM  A. Velasco        85  18 Club Atlético Independiente  7000000.0   4000.0\n"
     ]
    }
   ],
   "source": [
    "rating_433_ARG_Overall, best_list_433_ARG_Overall = get_best_squad_n(squad_433_strict, 'Argentina', 'overall')\n",
    "print('-Overall-')\n",
    "print('Average rating: {:.1f}'.format(rating_433_ARG_Overall))\n",
    "print(best_list_433_ARG_Overall)\n",
    "\n",
    "rating_433_ARG_Potential, best_list_433_ARG_Potential = get_best_squad_n(squad_433_strict, 'Argentina', 'potential')\n",
    "print('-Potential-')\n",
    "print('Average rating: {:.1f}'.format(rating_433_ARG_Potential))\n",
    "print(best_list_433_ARG_Potential)"
   ]
  }
 ],
 "metadata": {
  "colab": {
   "collapsed_sections": [],
   "include_colab_link": true,
   "provenance": []
  },
  "kernelspec": {
   "display_name": "Python 3 (ipykernel)",
   "language": "python",
   "name": "python3"
  },
  "language_info": {
   "codemirror_mode": {
    "name": "ipython",
    "version": 3
   },
   "file_extension": ".py",
   "mimetype": "text/x-python",
   "name": "python",
   "nbconvert_exporter": "python",
   "pygments_lexer": "ipython3",
   "version": "3.9.7"
  }
 },
 "nbformat": 4,
 "nbformat_minor": 1
}
