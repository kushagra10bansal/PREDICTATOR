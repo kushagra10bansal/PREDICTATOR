{
 "cells": [
  {
   "cell_type": "markdown",
   "metadata": {
    "id": "_5DgmSHnOx1h"
   },
   "source": [
    "### Importing data and models"
   ]
  },
  {
   "cell_type": "code",
   "execution_count": null,
   "metadata": {
    "_cell_guid": "b1076dfc-b9ad-4769-8c92-a6c4dae69d19",
    "_uuid": "8f2839f25d086af736a60e9eeb907d3b93b6e0e5",
    "execution": {
     "iopub.execute_input": "2022-09-16T05:39:39.646382Z",
     "iopub.status.busy": "2022-09-16T05:39:39.646004Z",
     "iopub.status.idle": "2022-09-16T05:39:40.126489Z",
     "shell.execute_reply": "2022-09-16T05:39:40.125346Z",
     "shell.execute_reply.started": "2022-09-16T05:39:39.646359Z"
    },
    "id": "bR2H_TM4czyy"
   },
   "outputs": [],
   "source": [
    "import numpy as np\n",
    "import pandas as pd\n",
    "import matplotlib.pyplot as plt\n",
    "import seaborn as sns\n",
    "import os\n",
    "import joblib\n",
    "import warnings\n",
    "warnings.filterwarnings('ignore')"
   ]
  },
  {
   "cell_type": "code",
   "execution_count": null,
   "metadata": {
    "colab": {
     "base_uri": "https://localhost:8080/"
    },
    "id": "ndQYNS92fpWd",
    "outputId": "32960ef3-5c2c-4059-9a3e-7c6a4bdc37dd"
   },
   "outputs": [],
   "source": [
    "# from google.colab import drive\n",
    "# drive.mount('/content/drive')"
   ]
  },
  {
   "cell_type": "code",
   "execution_count": null,
   "metadata": {
    "colab": {
     "base_uri": "https://localhost:8080/",
     "height": 206
    },
    "execution": {
     "iopub.execute_input": "2022-09-16T05:38:38.577404Z",
     "iopub.status.busy": "2022-09-16T05:38:38.57718Z",
     "iopub.status.idle": "2022-09-16T05:38:38.727653Z",
     "shell.execute_reply": "2022-09-16T05:38:38.726679Z",
     "shell.execute_reply.started": "2022-09-16T05:38:38.577382Z"
    },
    "id": "XxuELMU5czy7",
    "outputId": "2c3c9fa9-c13d-4206-cbdb-0ff4d1c7e81b"
   },
   "outputs": [],
   "source": [
    "last_team_scores = pd.read_csv(r'C:\\Users\\hp\\Downloads\\QATAR_2022_Prediction-master\\QATAR_2022_Prediction-master\\data\\last_team_scores.csv')\n",
    "last_team_scores.tail()"
   ]
  },
  {
   "cell_type": "code",
   "execution_count": null,
   "metadata": {
    "colab": {
     "base_uri": "https://localhost:8080/",
     "height": 206
    },
    "id": "X0HcO-nJOkrx",
    "outputId": "12bb9919-e8c9-43e3-c02b-b5925330a9b1"
   },
   "outputs": [],
   "source": [
    "squad_stats = pd.read_csv(r'C:\\Users\\hp\\Downloads\\QATAR_2022_Prediction-master\\QATAR_2022_Prediction-master\\data\\squad_stats.csv')\n",
    "squad_stats.tail()"
   ]
  },
  {
   "cell_type": "code",
   "execution_count": null,
   "metadata": {
    "colab": {
     "base_uri": "https://localhost:8080/",
     "height": 206
    },
    "id": "bN5iAbBnGrO8",
    "outputId": "49f05826-3b98-4abf-8ea6-6fa81985e19d"
   },
   "outputs": [],
   "source": [
    "group_matches = pd.read_csv(r'C:\\Users\\hp\\Downloads\\QATAR_2022_Prediction-master\\QATAR_2022_Prediction-master\\data\\Qatar_group_stage.csv')\n",
    "round_16 = group_matches.iloc[48:56, :]\n",
    "quarter_finals = group_matches.iloc[56:60, :]\n",
    "semi_finals = group_matches.iloc[60:62, :]\n",
    "final = group_matches.iloc[62:63, :]\n",
    "second_final = group_matches.iloc[63:64, :]\n",
    "group_matches = group_matches.iloc[:48, :]\n",
    "group_matches.tail()"
   ]
  },
  {
   "cell_type": "code",
   "execution_count": null,
   "metadata": {
    "execution": {
     "iopub.execute_input": "2022-09-16T05:54:13.572427Z",
     "iopub.status.busy": "2022-09-16T05:54:13.571673Z",
     "iopub.status.idle": "2022-09-16T05:54:13.577063Z",
     "shell.execute_reply": "2022-09-16T05:54:13.575885Z",
     "shell.execute_reply.started": "2022-09-16T05:54:13.572401Z"
    },
    "id": "oDEXffzJczzD"
   },
   "outputs": [],
   "source": [
    "# gs_model = joblib.load(\"/content/drive/MyDrive/models/groups_stage_prediction.pkl\")\n",
    "gs_model = joblib.load(r\"C:\\Users\\hp\\Downloads\\QATAR_2022_Prediction-master\\QATAR_2022_Prediction-master\\models\\groups_stage_prediction.pkl\")"
   ]
  },
  {
   "cell_type": "code",
   "execution_count": null,
   "metadata": {
    "execution": {
     "iopub.execute_input": "2022-09-16T05:56:12.363507Z",
     "iopub.status.busy": "2022-09-16T05:56:12.363203Z",
     "iopub.status.idle": "2022-09-16T05:56:12.36764Z",
     "shell.execute_reply": "2022-09-16T05:56:12.366824Z",
     "shell.execute_reply.started": "2022-09-16T05:56:12.363484Z"
    },
    "id": "qyEa4sYmczzD"
   },
   "outputs": [],
   "source": [
    "ks_model = joblib.load(r\"C:\\Users\\hp\\Downloads\\QATAR_2022_Prediction-master\\QATAR_2022_Prediction-master\\models\\knockout_stage_prediction.pkl\")"
   ]
  },
  {
   "cell_type": "code",
   "execution_count": null,
   "metadata": {
    "colab": {
     "base_uri": "https://localhost:8080/",
     "height": 206
    },
    "id": "2Me0SDbiq737",
    "outputId": "5f97da72-75fc-478a-9ec3-bffd6cf49a92"
   },
   "outputs": [],
   "source": [
    "team_group = group_matches.drop(['country2'], axis=1)\n",
    "team_group = team_group.drop_duplicates().reset_index(drop=True)\n",
    "team_group = team_group.rename(columns = {\"country1\":\"team\"})\n",
    "team_group.head(5)"
   ]
  },
  {
   "cell_type": "markdown",
   "metadata": {
    "id": "lchr84fNO2j3"
   },
   "source": [
    "### Declaring important functions"
   ]
  },
  {
   "cell_type": "code",
   "execution_count": null,
   "metadata": {
    "id": "HWYAL9RbO6QL"
   },
   "outputs": [],
   "source": [
    "def matches(g_matches):\n",
    "    g_matches.insert(2, 'potential1', g_matches['country1'].map(squad_stats.set_index('nationality_name')['potential']))\n",
    "    g_matches.insert(3, 'potential2', g_matches['country2'].map(squad_stats.set_index('nationality_name')['potential']))\n",
    "    g_matches.insert(4, 'rank1', g_matches['country1'].map(last_team_scores.set_index('team')['rank']))\n",
    "    g_matches.insert(5, 'rank2', g_matches['country2'].map(last_team_scores.set_index('team')['rank']))\n",
    "    pred_set = []\n",
    "\n",
    "    for index, row in g_matches.iterrows():\n",
    "        if row['potential1'] > row['potential2'] and abs(row['potential1'] - row['potential2']) > 2:\n",
    "            pred_set.append({'Team1': row['country1'], 'Team2': row['country2']})\n",
    "        elif row['potential2'] > row['potential1'] and abs(row['potential2'] - row['potential1']) > 2:\n",
    "            pred_set.append({'Team1': row['country2'], 'Team2': row['country1']})\n",
    "        else:\n",
    "            if row['rank1'] > row['rank2']:\n",
    "                pred_set.append({'Team1': row['country1'], 'Team2': row['country2']})\n",
    "            else:\n",
    "                pred_set.append({'Team1': row['country2'], 'Team2': row['country1']})\n",
    "\n",
    "    pred_set = pd.DataFrame(pred_set)\n",
    "    pred_set.insert(2, 'Team1_FIFA_RANK', pred_set['Team1'].map(last_team_scores.set_index('team')['rank']))\n",
    "    pred_set.insert(3, 'Team2_FIFA_RANK', pred_set['Team2'].map(last_team_scores.set_index('team')['rank']))\n",
    "    pred_set.insert(4, 'Team1_Goalkeeper_Score', pred_set['Team1'].map(last_team_scores.set_index('team')['goalkeeper_score']))\n",
    "    pred_set.insert(5, 'Team2_Goalkeeper_Score', pred_set['Team2'].map(last_team_scores.set_index('team')['goalkeeper_score']))\n",
    "    pred_set.insert(6, 'Team1_Defense', pred_set['Team1'].map(last_team_scores.set_index('team')['defense_score']))\n",
    "    pred_set.insert(7, 'Team1_Offense', pred_set['Team1'].map(last_team_scores.set_index('team')['offense_score']))\n",
    "    pred_set.insert(8, 'Team1_Midfield', pred_set['Team1'].map(last_team_scores.set_index('team')['midfield_score']))\n",
    "    pred_set.insert(9, 'Team2_Defense', pred_set['Team2'].map(last_team_scores.set_index('team')['defense_score']))\n",
    "    pred_set.insert(10, 'Team2_Offense', pred_set['Team2'].map(last_team_scores.set_index('team')['offense_score']))\n",
    "    pred_set.insert(11, 'Team2_Midfield', pred_set['Team2'].map(last_team_scores.set_index('team')['midfield_score']))\n",
    "    return pred_set"
   ]
  },
  {
   "cell_type": "code",
   "execution_count": null,
   "metadata": {
    "id": "o8ls1N8H_A06"
   },
   "outputs": [],
   "source": [
    " def print_results(dataset, y_pred, matches, proba):\n",
    "  results = []\n",
    "  for i in range(dataset.shape[0]):\n",
    "      print()\n",
    "      if y_pred[i] == 2:\n",
    "          print(matches.iloc[i, 0] + \" vs. \" + matches.iloc[i, 1] + \" => Draw\")\n",
    "          results.append({'result': 'Draw'})\n",
    "      elif y_pred[i] == 1:\n",
    "          print(matches.iloc[i, 0] + \" vs. \" + matches.iloc[i, 1] + \" => Winner: \" + dataset.iloc[i, 0])\n",
    "          results.append({'result': dataset.iloc[i, 0]})\n",
    "      else:\n",
    "          print(matches.iloc[i, 0] + \" vs. \" + matches.iloc[i, 1] + \" => Winner: \" + dataset.iloc[i, 1])\n",
    "          results.append({'result': dataset.iloc[i, 1]})\n",
    "      try:\n",
    "          print('Probability of ' + dataset.iloc[i, 0] + ' winning: ', '%.3f'%(proba[i][1]))\n",
    "          print('Probability of Draw: ', '%.3f'%(proba[i][2]))\n",
    "          print('Probability of ' + dataset.iloc[i, 1] + ' winning: ', '%.3f'%(proba[i][0]))\n",
    "      except:\n",
    "          print('Probability of ' + dataset.iloc[i, 1] + ' winning: ', '%.3f'%(proba[i][0]))\n",
    "      print(\"\")\n",
    "  results = pd.DataFrame(results)\n",
    "  matches = pd.concat([matches.group, results], axis=1)\n",
    "  return matches"
   ]
  },
  {
   "cell_type": "code",
   "execution_count": null,
   "metadata": {
    "id": "3FZdPL90NEMK"
   },
   "outputs": [],
   "source": [
    "def winner_to_match(round, prev_match):\n",
    "    round.insert(0, 'c1', round['country1'].map(prev_match.set_index('group')['result']))\n",
    "    round.insert(1, 'c2', round['country2'].map(prev_match.set_index('group')['result']))\n",
    "    round = round.drop(['country1','country2'], axis=1)\n",
    "    round = round.rename(columns={'c1':'country1', 'c2':'country2'}).reset_index(drop=True)\n",
    "    return round"
   ]
  },
  {
   "cell_type": "code",
   "execution_count": null,
   "metadata": {
    "id": "Cg_u17P5PIHJ"
   },
   "outputs": [],
   "source": [
    "def prediction_knockout(round):\n",
    "    dataset_round = matches(round)\n",
    "    prediction_round = ks_model.predict(dataset_round)\n",
    "    proba_round = ks_model.predict_proba(dataset_round)\n",
    "    results_round = print_results(dataset_round, prediction_round, round, proba_round)\n",
    "    return results_round"
   ]
  },
  {
   "cell_type": "code",
   "execution_count": null,
   "metadata": {
    "id": "gKLmjKIcc8mx"
   },
   "outputs": [],
   "source": [
    "def center_str(round):\n",
    "    spaces = ['',' ','  ','   ','    ','     ',]\n",
    "    for j in range(2):\n",
    "        for i in range(round.shape[0]):\n",
    "            if (13 - len(round.iloc[i, j])) % 2 == 0:\n",
    "                round.iloc[i, j] = spaces[int((13 - len(round.iloc[i, j])) / 2)] + round.iloc[i, j] + spaces[int((13 - len(round.iloc[i, j])) / 2)]\n",
    "            else:\n",
    "                round.iloc[i, j] = spaces[int(((13 - len(round.iloc[i, j])) / 2) - 0.5)] + round.iloc[i, j] + spaces[int(((13 - len(round.iloc[i, j])) / 2) + 0.5)]\n",
    "    return round"
   ]
  },
  {
   "cell_type": "code",
   "execution_count": null,
   "metadata": {
    "id": "ex44PkT7c-wH"
   },
   "outputs": [],
   "source": [
    "def center2(a):\n",
    "    spaces = ['',' ','  ','   ','    ','     ','      ','       ','        ','         ','          ','           ','            ','             ','              ','               ','                ','                 ','                  ','                   ','                    ']\n",
    "    if (29 - len(a)) % 2 == 0:\n",
    "        a = spaces[int((29 - len(a)) / 2)] + a + spaces[int((29 - len(a)) / 2)]\n",
    "    else:\n",
    "        a = spaces[int(((29 - len(a)) / 2) - 0.5)] + a + spaces[int(((29 - len(a)) / 2) + 0.5)]\n",
    "    return a"
   ]
  },
  {
   "cell_type": "markdown",
   "metadata": {
    "id": "obtI3SIb-_j5"
   },
   "source": [
    "# GROUP STAGE PREDICTION"
   ]
  },
  {
   "cell_type": "code",
   "execution_count": null,
   "metadata": {
    "colab": {
     "base_uri": "https://localhost:8080/",
     "height": 206
    },
    "id": "M6cxJzzbgqo8",
    "outputId": "faae00ef-95a0-4aea-c77d-fee75aa28db8"
   },
   "outputs": [],
   "source": [
    "dataset_groups = matches(group_matches)\n",
    "dataset_groups.tail()"
   ]
  },
  {
   "cell_type": "code",
   "execution_count": null,
   "metadata": {
    "colab": {
     "base_uri": "https://localhost:8080/"
    },
    "id": "eiEeN-4mk9C2",
    "outputId": "89328492-e3b3-4822-87b2-f615bcaa1de0"
   },
   "outputs": [],
   "source": [
    "prediction_groups = gs_model.predict(dataset_groups)\n",
    "proba = gs_model.predict_proba(dataset_groups)\n",
    "results = print_results(dataset_groups, prediction_groups, group_matches, proba)"
   ]
  },
  {
   "cell_type": "code",
   "execution_count": null,
   "metadata": {
    "id": "yB2vrrcJDy0N"
   },
   "outputs": [],
   "source": [
    "team_group['points'] = 0\n",
    "team_group\n",
    "for i in range(results.shape[0]):\n",
    "    for j in range(team_group.shape[0]):\n",
    "        if results.iloc[i, 1] == team_group.iloc[j, 0]:\n",
    "            team_group.iloc[j, 2] += 3"
   ]
  },
  {
   "cell_type": "markdown",
   "metadata": {
    "id": "DgcUiRC8_eQn"
   },
   "source": [
    "**Points Table:** only the best two from each group advance to the next phase"
   ]
  },
  {
   "cell_type": "code",
   "execution_count": null,
   "metadata": {
    "colab": {
     "base_uri": "https://localhost:8080/"
    },
    "id": "L61msur3fOR8",
    "outputId": "f79ece8c-2567-49d8-aa59-933c61df7315"
   },
   "outputs": [],
   "source": [
    "print(team_group.groupby(['group','team']).mean().astype(int))"
   ]
  },
  {
   "cell_type": "markdown",
   "metadata": {
    "id": "4LF-Ic5F_Qrn"
   },
   "source": [
    "# KNOCKOUT STAGE PREDICTION\n",
    "**Round of 16**"
   ]
  },
  {
   "cell_type": "code",
   "execution_count": null,
   "metadata": {
    "colab": {
     "base_uri": "https://localhost:8080/"
    },
    "id": "nE2NScP3l-hv",
    "outputId": "e41b8808-799c-4e6d-9e53-394a7e1da1ad"
   },
   "outputs": [],
   "source": [
    "round_of_16 = team_group[team_group['points'] > 5].reset_index(drop=True)\n",
    "round_of_16['group'] = (4 - 1/3 * round_of_16.points).astype(int).astype(str) + round_of_16.group\n",
    "round_of_16 = round_of_16.rename(columns = {\"team\":\"result\"})\n",
    "\n",
    "round_16 = winner_to_match(round_16, round_of_16)\n",
    "results_round_16 = prediction_knockout(round_16)"
   ]
  },
  {
   "cell_type": "markdown",
   "metadata": {
    "id": "6afsP76ZAMQY"
   },
   "source": [
    "**Quarterfinals**"
   ]
  },
  {
   "cell_type": "code",
   "execution_count": null,
   "metadata": {
    "colab": {
     "base_uri": "https://localhost:8080/"
    },
    "id": "iGjrfe0IBVzE",
    "outputId": "c4831edf-d277-43f5-f6ff-4318ecb6f2dd"
   },
   "outputs": [],
   "source": [
    "quarter_finals = winner_to_match(quarter_finals, results_round_16)\n",
    "results_quarter_finals = prediction_knockout(quarter_finals)"
   ]
  },
  {
   "cell_type": "markdown",
   "metadata": {
    "id": "KyaWKm4UAR25"
   },
   "source": [
    "**Semi-final**"
   ]
  },
  {
   "cell_type": "code",
   "execution_count": null,
   "metadata": {
    "colab": {
     "base_uri": "https://localhost:8080/"
    },
    "id": "UmIc04mPBsqC",
    "outputId": "934a1480-52d3-4c6b-cea4-6d0908bf545c"
   },
   "outputs": [],
   "source": [
    "semi_finals = winner_to_match(semi_finals, results_quarter_finals)\n",
    "results_finals = prediction_knockout(semi_finals)"
   ]
  },
  {
   "cell_type": "markdown",
   "metadata": {
    "id": "6RAkiggRAWWU"
   },
   "source": [
    "**Final**"
   ]
  },
  {
   "cell_type": "code",
   "execution_count": null,
   "metadata": {
    "colab": {
     "base_uri": "https://localhost:8080/"
    },
    "id": "MHWOJlwDH0JY",
    "outputId": "5d18c8df-0f8e-4ee7-9736-bdfe60d082e7"
   },
   "outputs": [],
   "source": [
    "final = winner_to_match(final, results_finals)\n",
    "winner = prediction_knockout(final)"
   ]
  },
  {
   "cell_type": "markdown",
   "metadata": {
    "id": "RCcHO0OzAfzu"
   },
   "source": [
    "**Third place**"
   ]
  },
  {
   "cell_type": "code",
   "execution_count": null,
   "metadata": {
    "colab": {
     "base_uri": "https://localhost:8080/"
    },
    "id": "p8qzqQAHWvx8",
    "outputId": "dccae93f-a9c8-4bfe-ddb8-6af47d18ce2d"
   },
   "outputs": [],
   "source": [
    "second = results_finals[~results_finals.result.isin(winner.result)]\n",
    "results_finals_3 = results_quarter_finals[~results_quarter_finals.result.isin(results_finals.result)]\n",
    "results_finals_3.iloc[0, 0]='z1'\n",
    "results_finals_3.iloc[1, 0]='z2'\n",
    "second_final = winner_to_match(second_final, results_finals_3)\n",
    "third = prediction_knockout(second_final)"
   ]
  },
  {
   "cell_type": "markdown",
   "metadata": {
    "id": "Re8xfk-mAodH"
   },
   "source": [
    "**Printing Tournament Table**"
   ]
  },
  {
   "cell_type": "code",
   "execution_count": null,
   "metadata": {
    "id": "7UYhyscaajMu"
   },
   "outputs": [],
   "source": [
    "round_16 = center_str(round_16)\n",
    "quarter_finals = center_str(quarter_finals)\n",
    "semi_finals = center_str(semi_finals)\n",
    "final = center_str(final)\n",
    "group_matches = center_str(group_matches)"
   ]
  },
  {
   "cell_type": "code",
   "execution_count": null,
   "metadata": {
    "colab": {
     "base_uri": "https://localhost:8080/"
    },
    "id": "ucLaz8JiBYFV",
    "outputId": "3a8f652c-9f7b-4b84-c25d-839d1628ed55"
   },
   "outputs": [],
   "source": [
    "print(round_16.iloc[0, 0]+'━━━━┓                                                                                                                             ┏━━━━'+round_16.iloc[4, 0])\n",
    "print('                 ┃                                                                                                                             ┃')\n",
    "print('                 ┃━━━━'+quarter_finals.iloc[0, 0]+'━━━━┓                                                                                 ┏━━━━'+quarter_finals.iloc[2, 0]+'━━━━┃')\n",
    "print('                 ┃                     ┃                                                                                 ┃                     ┃')\n",
    "print(round_16.iloc[0, 1]+'━━━━┛                     ┃                                                                                 ┃                     ┗━━━━'+round_16.iloc[4, 1])\n",
    "print('                                       ┃━━━━'+semi_finals.iloc[0, 0]+'━━━━┓                                     ┏━━━━'+semi_finals.iloc[1, 0]+'━━━━┃')\n",
    "print(round_16.iloc[1, 0]+'━━━━┓                     ┃                     ┃                                     ┃                     ┃                     ┏━━━━'+round_16.iloc[5, 0])\n",
    "print('                 ┃                     ┃                     ┃                                     ┃                     ┃                     ┃')\n",
    "print('                 ┃━━━━'+quarter_finals.iloc[0, 1]+'━━━━┛                     ┃                                     ┃                     ┗━━━━'+quarter_finals.iloc[2, 1]+'━━━━┃')\n",
    "print('                 ┃                                           ┃                                     ┃                                           ┃')\n",
    "print(round_16.iloc[1, 1]+'━━━━┛                                           ┃                                     ┃                                           ┗━━━━'+round_16.iloc[5, 1])\n",
    "print('                                                             ┃━━━━'+final.iloc[0, 0]+'vs.'+final.iloc[0, 1]+'━━━━┃')\n",
    "print(round_16.iloc[2, 0]+'━━━━┓                                           ┃                                     ┃                                           ┏━━━━'+round_16.iloc[6, 0])\n",
    "print('                 ┃                                           ┃                                     ┃                                           ┃')\n",
    "print('                 ┃━━━━'+quarter_finals.iloc[1, 0]+'━━━━┓                     ┃                                     ┃                     ┏━━━━'+quarter_finals.iloc[3, 0]+'━━━━┃')\n",
    "print('                 ┃                     ┃                     ┃                                     ┃                     ┃                     ┃')\n",
    "print(round_16.iloc[2, 1]+'━━━━┛                     ┃                     ┃                                     ┃                     ┃                     ┗━━━━'+round_16.iloc[6, 1])\n",
    "print('                                       ┃━━━━'+semi_finals.iloc[0, 1]+'━━━━┛                                     ┗━━━━'+semi_finals.iloc[1, 1]+'━━━━┃')\n",
    "print(round_16.iloc[3, 0]+'━━━━┓                     ┃                                                                                 ┃                     ┏━━━━'+round_16.iloc[7, 0])\n",
    "print('                 ┃                     ┃                                                                                 ┃                     ┃')\n",
    "print('                 ┃━━━━'+quarter_finals.iloc[1, 1]+'━━━━┛                                                                                 ┗━━━━'+quarter_finals.iloc[3, 1]+'━━━━┃')\n",
    "print('                 ┃                                                                                                                             ┃')\n",
    "print(round_16.iloc[3, 1]+'━━━━┛                                                                                                                             ┗━━━━'+round_16.iloc[7, 1])\n",
    "print(\"                                                                 \"+center2(\"\\U0001F947\"+winner.iloc[0, 1]))\n",
    "print(\"                                                                 \"+center2(\"\\U0001F948\"+second.iloc[0, 1]))\n",
    "print(\"                                                                 \"+center2(\"\\U0001F949\"+third.iloc[0, 1]))"
   ]
  },
  {
   "cell_type": "code",
   "execution_count": null,
   "metadata": {},
   "outputs": [],
   "source": []
  },
  {
   "cell_type": "code",
   "execution_count": null,
   "metadata": {},
   "outputs": [],
   "source": []
  }
 ],
 "metadata": {
  "colab": {
   "include_colab_link": true,
   "provenance": []
  },
  "kernelspec": {
   "display_name": "Python 3 (ipykernel)",
   "language": "python",
   "name": "python3"
  },
  "language_info": {
   "codemirror_mode": {
    "name": "ipython",
    "version": 3
   },
   "file_extension": ".py",
   "mimetype": "text/x-python",
   "name": "python",
   "nbconvert_exporter": "python",
   "pygments_lexer": "ipython3",
   "version": "3.9.7"
  }
 },
 "nbformat": 4,
 "nbformat_minor": 1
}
